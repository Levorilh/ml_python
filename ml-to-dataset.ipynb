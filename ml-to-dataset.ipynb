{
 "cells": [
  {
   "cell_type": "markdown",
   "id": "f346e3e6",
   "metadata": {},
   "source": [
    "## Import dataset"
   ]
  },
  {
   "cell_type": "code",
   "execution_count": 7,
   "id": "fded975a",
   "metadata": {},
   "outputs": [],
   "source": [
    "import numpy as np\n",
    "import os\n",
    "from PIL import Image\n",
    "import matplotlib.pyplot as plt\n",
    "from ml import *"
   ]
  },
  {
   "cell_type": "code",
   "execution_count": 8,
   "id": "dfbf24dd",
   "metadata": {},
   "outputs": [],
   "source": [
    "IMG_SIZE = (64, 64)\n",
    "PATH = os.path.join(\"data_large/\")\n",
    "TRAIN = os.path.join(PATH, \"train\")\n",
    "classes = os.listdir(TRAIN)"
   ]
  },
  {
   "cell_type": "code",
   "execution_count": 9,
   "id": "89634d51",
   "metadata": {},
   "outputs": [
    {
     "data": {
      "text/plain": "['moulin-rouge',\n 'palais-de-l-elysee',\n 'pont-neuf',\n 'place-de-la-concorde',\n 'jardin-des-tuileries',\n 'hotel-de-ville',\n 'arc-de-triomphe',\n 'musee-d-orsay']"
     },
     "execution_count": 9,
     "metadata": {},
     "output_type": "execute_result"
    }
   ],
   "source": [
    "classes"
   ]
  },
  {
   "cell_type": "code",
   "execution_count": 10,
   "id": "7056f005",
   "metadata": {},
   "outputs": [],
   "source": [
    "def import_images_and_assign_labels(folder, label, X, Y):\n",
    "    for file in os.listdir(folder):\n",
    "        image_path = os.path.join(folder, file)\n",
    "        im = Image.open(image_path)\n",
    "        im = im.resize(IMG_SIZE)\n",
    "        im = im.convert(\"RGB\")\n",
    "        im_arr = np.array(im)\n",
    "        im_arr = np.reshape(im_arr, (IMG_SIZE[0]* IMG_SIZE[1] * 3,))\n",
    "        X.append(im_arr)\n",
    "        Y.append(label)"
   ]
  },
  {
   "cell_type": "code",
   "execution_count": 11,
   "id": "cefe14ee",
   "metadata": {},
   "outputs": [
    {
     "data": {
      "text/plain": "487"
     },
     "execution_count": 11,
     "metadata": {},
     "output_type": "execute_result"
    }
   ],
   "source": [
    "len(os.listdir(os.path.join(PATH, \"train\", \"pont-neuf\")))"
   ]
  },
  {
   "cell_type": "code",
   "execution_count": 12,
   "id": "c0f7a554",
   "metadata": {},
   "outputs": [],
   "source": [
    "def import_dataset():\n",
    "    X_train, y_train, X_valid, y_valid = [], [], [], []\n",
    "    labels = np.identity(len(os.listdir(TRAIN)))        \n",
    "    for set_type in [\"train\", \"valid\"]:\n",
    "        for cl, lab in zip(classes, labels):\n",
    "            if set_type == \"train\":\n",
    "                X_set, y_set = X_train, y_train\n",
    "            else:\n",
    "                X_set, y_set = X_valid, y_valid\n",
    "            import_images_and_assign_labels(\n",
    "                os.path.join(PATH, set_type, cl),\n",
    "                lab,\n",
    "                X_set,\n",
    "                y_set\n",
    "            )                \n",
    "    \n",
    "    return (np.array(X_train) / 255.0, np.array(y_train)), \\\n",
    "           (np.array(X_valid) / 255.0, np.array(y_valid))"
   ]
  },
  {
   "cell_type": "code",
   "execution_count": 13,
   "id": "945813bc",
   "metadata": {},
   "outputs": [],
   "source": [
    "(X_train, y_train), (X_valid, y_valid) = import_dataset()"
   ]
  },
  {
   "cell_type": "code",
   "execution_count": 14,
   "id": "98fba64a",
   "metadata": {},
   "outputs": [],
   "source": [
    "def showImg(tensor, label, prediction):\n",
    "    fig, ax = plt.subplots()\n",
    "    ax.imshow(tensor.reshape((IMG_SIZE[0], IMG_SIZE[1], 3)))\n",
    "    ax.set_title(f'Label: {classes[np.argmax(label)]}')\n",
    "    ax.set_xlabel(f'Prediction: {np.argmax(prediction)} / Expected output: {np.argmax(label)}')\n",
    "    ax.set_xticks([])\n",
    "    ax.set_yticks([]);\n",
    "    return ax"
   ]
  },
  {
   "cell_type": "markdown",
   "id": "6732db63",
   "metadata": {},
   "source": [
    "## Linear"
   ]
  },
  {
   "cell_type": "code",
   "execution_count": 15,
   "id": "507ef8b4",
   "metadata": {},
   "outputs": [],
   "source": [
    "input_dim = len(X_train[0])"
   ]
  },
  {
   "cell_type": "code",
   "execution_count": 16,
   "id": "0321b704",
   "metadata": {},
   "outputs": [],
   "source": [
    "p_model = create_linear_model(input_dim)"
   ]
  },
  {
   "cell_type": "code",
   "execution_count": 17,
   "id": "20f8bdb0",
   "metadata": {},
   "outputs": [
    {
     "name": "stdout",
     "output_type": "stream",
     "text": [
      "Before training: 1.0\n"
     ]
    }
   ],
   "source": [
    "picture_test = np.random.randint(0, len(X_train))\n",
    "test_before = predict_linear_model_classif(p_model, input_dim, X_train[picture_test])\n",
    "print(\"Before training:\", test_before)"
   ]
  },
  {
   "cell_type": "code",
   "execution_count": 18,
   "id": "cfd3e8b8",
   "metadata": {},
   "outputs": [],
   "source": [
    "train_linear_classification_model(p_model, input_dim, X_train, y_train.flatten())"
   ]
  },
  {
   "cell_type": "code",
   "execution_count": 19,
   "id": "f724ea44",
   "metadata": {},
   "outputs": [
    {
     "name": "stdout",
     "output_type": "stream",
     "text": [
      "After training: -1.0\n"
     ]
    }
   ],
   "source": [
    "test_after = predict_linear_model_classif(p_model, input_dim, X_train[picture_test])\n",
    "print(\"After training:\", test_after)"
   ]
  },
  {
   "cell_type": "code",
   "execution_count": 20,
   "id": "8502c059",
   "metadata": {},
   "outputs": [],
   "source": [
    "destroy_linear_model(p_model)"
   ]
  },
  {
   "cell_type": "markdown",
   "id": "6345f8b9",
   "metadata": {},
   "source": [
    "## MLP (Classique)"
   ]
  },
  {
   "cell_type": "code",
   "execution_count": 21,
   "id": "b0043ec2",
   "metadata": {},
   "outputs": [],
   "source": [
    "input_dim = [len(X_train[0]), 32, 16, 8]"
   ]
  },
  {
   "cell_type": "code",
   "execution_count": 22,
   "id": "8ea72e16",
   "metadata": {},
   "outputs": [],
   "source": [
    "p_model, len_output_layer = create_mlp_model(input_dim)"
   ]
  },
  {
   "cell_type": "code",
   "execution_count": 23,
   "id": "3aba8599",
   "metadata": {},
   "outputs": [],
   "source": [
    "def accuracy(X, Y, model=p_model, len_output_layer=len_output_layer):\n",
    "    true_preds = 0\n",
    "    total_preds = len(X)\n",
    "    for x, y in zip(X, Y):\n",
    "        if np.argmax(predict_mlp_model_classification(model, x, len_output_layer)) == np.argmax(y):\n",
    "            true_preds += 1\n",
    "    print(f\"Accuracy: {round((true_preds / total_preds) * 100, 2)}%\")"
   ]
  },
  {
   "cell_type": "code",
   "execution_count": 24,
   "id": "3ce1d6ff",
   "metadata": {},
   "outputs": [],
   "source": [
    "picture_test = np.random.randint(0, len(X_valid)-1)"
   ]
  },
  {
   "cell_type": "code",
   "execution_count": 25,
   "id": "4ace1476",
   "metadata": {},
   "outputs": [
    {
     "name": "stdout",
     "output_type": "stream",
     "text": [
      "Before training: [-0.7925074, 0.76663136, -0.40681162, -0.71668535, -0.99395376, 0.0020939081, -0.16900966, -0.579058]\n"
     ]
    }
   ],
   "source": [
    "test_before = predict_mlp_model_classification(p_model, X_valid[picture_test], len_output_layer)\n",
    "print(\"Before training:\", test_before)"
   ]
  },
  {
   "cell_type": "code",
   "execution_count": 26,
   "id": "a07d599d",
   "metadata": {},
   "outputs": [
    {
     "data": {
      "text/plain": "<Figure size 432x288 with 1 Axes>",
      "image/png": "[encoded data removed]"
     },
     "metadata": {},
     "output_type": "display_data"
    }
   ],
   "source": [
    "showImg(X_valid[picture_test], y_valid[picture_test], test_before);"
   ]
  },
  {
   "cell_type": "code",
   "execution_count": 27,
   "id": "69a32c93",
   "metadata": {},
   "outputs": [],
   "source": [
    "nb_rows_train = X_train.shape[0]\n",
    "random_idx_train = np.random.choice(nb_rows_train, 200, replace=False)\n",
    "\n",
    "nb_rows_valid = X_valid.shape[0]\n",
    "random_idx_valid = np.random.choice(nb_rows_valid, 200, replace=False)"
   ]
  },
  {
   "cell_type": "code",
   "execution_count": 28,
   "id": "0d94f254",
   "metadata": {},
   "outputs": [
    {
     "name": "stdout",
     "output_type": "stream",
     "text": [
      "3417 3417\n",
      "1032 1032\n",
      "[1066  295 3283   34  548  861 3279 2072 2858 2404  655  287  826  134\n",
      " 1284   11 2552 3409 2540 1383 2802 2306  730 2076  278  538 1423  381\n",
      "  751 1476 3168 2599 1208 2154 2379 1473   48 1564  431 2097 1357 2870\n",
      "  424 2715 2288 3310 2894 2751 3185 1896  499 1029 1542 2682  365 1390\n",
      " 2738 2006  231 2565 2431  913 1988 2827 1151  524 3066  575  165  246\n",
      "  444  592   82  626  949 1437 2856  728 2910  211 2137  379  689 2852\n",
      "  301  534 2762 2111  506 1978 2865 2085 2357 1010  132  388 2993 3080\n",
      " 2519 1608  349 3272  457 2272 1454 2787 1829 2843 2377 2598 1985 2709\n",
      " 1938 3082  476  742 1986 1209 1848 2806 2233 2132 2158 1769 1379 1997\n",
      " 2890 1203  218 3375 2139   14 2117  945  305 2753 2588 1498 3369  401\n",
      " 2435  299 1072  766  309 3224 3365 1659 1799 2278 3002 2295  392 1205\n",
      " 3301   56 2129 2759  609  744 2455  480  221 2485 1487  230  698 3215\n",
      " 3385 2258 1036 1569 1262 1039 2268  256 2050 3025  503 1649  156 2873\n",
      " 2792  226  549  363  238 2643  328 2835  294 3043 2430 1455 1640 3107\n",
      "  676 1273 3388 1271]\n",
      "[ 836  105   38  187  360  280  517  282  583  235  498 1021  405  116\n",
      "  733  961 1025  818  239  826  996   33  765  201  988  741  854  798\n",
      "  676  783  527  265  338  298  318  923  843  577  352  901  660  732\n",
      "  107   64  720  606  866  595  614  752  474  410  954 1026  890  594\n",
      "  273  461  325  824 1012 1030  514  569  528  230  551 1027  559  857\n",
      "  143   92  224  422   83  208  144  133  175  596  500  827   91   21\n",
      "   69  444  113  183  368  413  552  610  860  389  975  346  236 1011\n",
      "  885  473   79  243  782  140  274  541  670  167  470  809    3  709\n",
      "  679  570  323 1028  797  119 1007  540  388  672  748  883   73  978\n",
      "  674  993  361  597  170  246  668  619  427  285  463  815  518  358\n",
      "  708 1010  817  110   76  830  745  466  789  677  538  516  214  976\n",
      "  939  973  416  850  956   13  270  135  342  958  112  277 1018  613\n",
      "   52  965  476  912   87  665  496  533  787   59  941  985  905  987\n",
      "  759  935  811  356  136  846  503  408   51  184  634  186  865 1020\n",
      "  131  868  879  202]\n"
     ]
    }
   ],
   "source": [
    "print(len(X_train), len(y_train))\n",
    "print(len(X_valid), len(y_valid))\n",
    "\n",
    "print(random_idx_train)\n",
    "print(random_idx_valid)"
   ]
  },
  {
   "cell_type": "code",
   "execution_count": 1,
   "id": "aab25861",
   "metadata": {},
   "outputs": [
    {
     "ename": "NameError",
     "evalue": "name 'accuracy' is not defined",
     "output_type": "error",
     "traceback": [
      "\u001B[0;31m---------------------------------------------------------------------------\u001B[0m",
      "\u001B[0;31mNameError\u001B[0m                                 Traceback (most recent call last)",
      "\u001B[0;32m<ipython-input-1-a95477d9b10a>\u001B[0m in \u001B[0;36m<module>\u001B[0;34m\u001B[0m\n\u001B[0;32m----> 1\u001B[0;31m \u001B[0maccuracy\u001B[0m\u001B[0;34m(\u001B[0m\u001B[0mX_train\u001B[0m\u001B[0;34m[\u001B[0m\u001B[0mrandom_idx_train\u001B[0m\u001B[0;34m,\u001B[0m \u001B[0;34m:\u001B[0m\u001B[0;34m]\u001B[0m\u001B[0;34m,\u001B[0m \u001B[0my_train\u001B[0m\u001B[0;34m[\u001B[0m\u001B[0mrandom_idx_train\u001B[0m\u001B[0;34m,\u001B[0m \u001B[0;34m:\u001B[0m\u001B[0;34m]\u001B[0m\u001B[0;34m)\u001B[0m\u001B[0;34m\u001B[0m\u001B[0;34m\u001B[0m\u001B[0m\n\u001B[0m\u001B[1;32m      2\u001B[0m \u001B[0;34m\u001B[0m\u001B[0m\n",
      "\u001B[0;31mNameError\u001B[0m: name 'accuracy' is not defined"
     ]
    }
   ],
   "source": [
    "accuracy(X_train[random_idx_train, :], y_train[random_idx_train, :])"
   ]
  },
  {
   "cell_type": "code",
   "execution_count": 31,
   "id": "99e4d080",
   "metadata": {},
   "outputs": [
    {
     "name": "stdout",
     "output_type": "stream",
     "text": [
      "Accuracy: 16.5%\n"
     ]
    }
   ],
   "source": [
    "accuracy(X_valid[random_idx_valid, :], y_valid[random_idx_valid, :])"
   ]
  },
  {
   "cell_type": "code",
   "execution_count": 1,
   "id": "657693f7",
   "metadata": {},
   "outputs": [
    {
     "ename": "NameError",
     "evalue": "name 'train_classification_stochastic_gradient_backpropagation_mlp_model' is not defined",
     "output_type": "error",
     "traceback": [
      "\u001B[0;31m---------------------------------------------------------------------------\u001B[0m",
      "\u001B[0;31mNameError\u001B[0m                                 Traceback (most recent call last)",
      "\u001B[0;32m<ipython-input-1-22910ba49d38>\u001B[0m in \u001B[0;36m<module>\u001B[0;34m\u001B[0m\n\u001B[0;32m----> 1\u001B[0;31m \u001B[0mtrain_classification_stochastic_gradient_backpropagation_mlp_model\u001B[0m\u001B[0;34m(\u001B[0m\u001B[0mp_model\u001B[0m\u001B[0;34m,\u001B[0m \u001B[0mX_train\u001B[0m\u001B[0;34m,\u001B[0m \u001B[0my_train\u001B[0m\u001B[0;34m.\u001B[0m\u001B[0mflatten\u001B[0m\u001B[0;34m(\u001B[0m\u001B[0;34m)\u001B[0m\u001B[0;34m,\u001B[0m \u001B[0mepochs\u001B[0m\u001B[0;34m=\u001B[0m\u001B[0;36m10000\u001B[0m\u001B[0;34m)\u001B[0m\u001B[0;31m#, alpha=0.01)\u001B[0m\u001B[0;34m\u001B[0m\u001B[0;34m\u001B[0m\u001B[0m\n\u001B[0m\u001B[1;32m      2\u001B[0m \u001B[0;34m\u001B[0m\u001B[0m\n",
      "\u001B[0;31mNameError\u001B[0m: name 'train_classification_stochastic_gradient_backpropagation_mlp_model' is not defined"
     ]
    }
   ],
   "source": [
    "train_classification_stochastic_gradient_backpropagation_mlp_model(p_model, X_train, y_train.flatten(), epochs=10000)#, alpha=0.01)"
   ]
  },
  {
   "cell_type": "code",
   "execution_count": 2,
   "id": "hindu-stranger",
   "metadata": {},
   "outputs": [
    {
     "ename": "NameError",
     "evalue": "name 'predict_mlp_model_classification' is not defined",
     "output_type": "error",
     "traceback": [
      "\u001B[0;31m---------------------------------------------------------------------------\u001B[0m",
      "\u001B[0;31mNameError\u001B[0m                                 Traceback (most recent call last)",
      "\u001B[0;32m<ipython-input-2-35bf355c682e>\u001B[0m in \u001B[0;36m<module>\u001B[0;34m\u001B[0m\n\u001B[0;32m----> 1\u001B[0;31m \u001B[0mtest_after\u001B[0m \u001B[0;34m=\u001B[0m \u001B[0mpredict_mlp_model_classification\u001B[0m\u001B[0;34m(\u001B[0m\u001B[0mp_model\u001B[0m\u001B[0;34m,\u001B[0m \u001B[0mX_valid\u001B[0m\u001B[0;34m[\u001B[0m\u001B[0mpicture_test\u001B[0m\u001B[0;34m]\u001B[0m\u001B[0;34m,\u001B[0m \u001B[0mlen_output_layer\u001B[0m\u001B[0;34m)\u001B[0m\u001B[0;34m\u001B[0m\u001B[0;34m\u001B[0m\u001B[0m\n\u001B[0m\u001B[1;32m      2\u001B[0m \u001B[0;34m\u001B[0m\u001B[0m\n\u001B[1;32m      3\u001B[0m \u001B[0mprint\u001B[0m\u001B[0;34m(\u001B[0m\u001B[0;34m\"After training:\"\u001B[0m\u001B[0;34m,\u001B[0m \u001B[0mtest_after\u001B[0m\u001B[0;34m)\u001B[0m\u001B[0;34m\u001B[0m\u001B[0;34m\u001B[0m\u001B[0m\n\u001B[1;32m      4\u001B[0m \u001B[0mprint\u001B[0m\u001B[0;34m(\u001B[0m\u001B[0;34m\"Class index : \"\u001B[0m\u001B[0;34m,\u001B[0m \u001B[0mnp\u001B[0m\u001B[0;34m.\u001B[0m\u001B[0margmax\u001B[0m\u001B[0;34m(\u001B[0m\u001B[0mtest_after\u001B[0m\u001B[0;34m)\u001B[0m\u001B[0;34m)\u001B[0m\u001B[0;34m\u001B[0m\u001B[0;34m\u001B[0m\u001B[0m\n\u001B[1;32m      5\u001B[0m \u001B[0mprint\u001B[0m\u001B[0;34m(\u001B[0m\u001B[0;34m\"Class expected :\"\u001B[0m\u001B[0;34m,\u001B[0m \u001B[0mnp\u001B[0m\u001B[0;34m.\u001B[0m\u001B[0margmax\u001B[0m\u001B[0;34m(\u001B[0m\u001B[0my_train\u001B[0m\u001B[0;34m[\u001B[0m\u001B[0mpicture_test\u001B[0m\u001B[0;34m]\u001B[0m\u001B[0;34m)\u001B[0m\u001B[0;34m)\u001B[0m\u001B[0;34m\u001B[0m\u001B[0;34m\u001B[0m\u001B[0m\n",
      "\u001B[0;31mNameError\u001B[0m: name 'predict_mlp_model_classification' is not defined"
     ]
    }
   ],
   "source": [
    "test_after = predict_mlp_model_classification(p_model, X_valid[picture_test], len_output_layer)\n",
    "\n",
    "print(\"After training:\", test_after)\n",
    "print(\"Class index : \", np.argmax(test_after))\n",
    "print(\"Class expected :\", np.argmax(y_train[picture_test]))"
   ]
  },
  {
   "cell_type": "code",
   "execution_count": 3,
   "id": "1e498293",
   "metadata": {},
   "outputs": [
    {
     "ename": "NameError",
     "evalue": "name 'showImg' is not defined",
     "output_type": "error",
     "traceback": [
      "\u001B[0;31m---------------------------------------------------------------------------\u001B[0m",
      "\u001B[0;31mNameError\u001B[0m                                 Traceback (most recent call last)",
      "\u001B[0;32m<ipython-input-3-4316ab498410>\u001B[0m in \u001B[0;36m<module>\u001B[0;34m\u001B[0m\n\u001B[0;32m----> 1\u001B[0;31m \u001B[0mshowImg\u001B[0m\u001B[0;34m(\u001B[0m\u001B[0mX_valid\u001B[0m\u001B[0;34m[\u001B[0m\u001B[0mpicture_test\u001B[0m\u001B[0;34m]\u001B[0m\u001B[0;34m,\u001B[0m \u001B[0my_valid\u001B[0m\u001B[0;34m[\u001B[0m\u001B[0mpicture_test\u001B[0m\u001B[0;34m]\u001B[0m\u001B[0;34m,\u001B[0m \u001B[0mtest_after\u001B[0m\u001B[0;34m)\u001B[0m\u001B[0;34m;\u001B[0m\u001B[0;34m\u001B[0m\u001B[0;34m\u001B[0m\u001B[0m\n\u001B[0m\u001B[1;32m      2\u001B[0m \u001B[0;34m\u001B[0m\u001B[0m\n",
      "\u001B[0;31mNameError\u001B[0m: name 'showImg' is not defined"
     ]
    }
   ],
   "source": [
    "showImg(X_valid[picture_test], y_valid[picture_test], test_after);"
   ]
  },
  {
   "cell_type": "code",
   "execution_count": 4,
   "id": "118495c6",
   "metadata": {},
   "outputs": [
    {
     "ename": "NameError",
     "evalue": "name 'accuracy' is not defined",
     "output_type": "error",
     "traceback": [
      "\u001B[0;31m---------------------------------------------------------------------------\u001B[0m",
      "\u001B[0;31mNameError\u001B[0m                                 Traceback (most recent call last)",
      "\u001B[0;32m<ipython-input-4-a95477d9b10a>\u001B[0m in \u001B[0;36m<module>\u001B[0;34m\u001B[0m\n\u001B[0;32m----> 1\u001B[0;31m \u001B[0maccuracy\u001B[0m\u001B[0;34m(\u001B[0m\u001B[0mX_train\u001B[0m\u001B[0;34m[\u001B[0m\u001B[0mrandom_idx_train\u001B[0m\u001B[0;34m,\u001B[0m \u001B[0;34m:\u001B[0m\u001B[0;34m]\u001B[0m\u001B[0;34m,\u001B[0m \u001B[0my_train\u001B[0m\u001B[0;34m[\u001B[0m\u001B[0mrandom_idx_train\u001B[0m\u001B[0;34m,\u001B[0m \u001B[0;34m:\u001B[0m\u001B[0;34m]\u001B[0m\u001B[0;34m)\u001B[0m\u001B[0;34m\u001B[0m\u001B[0;34m\u001B[0m\u001B[0m\n\u001B[0m\u001B[1;32m      2\u001B[0m \u001B[0;34m\u001B[0m\u001B[0m\n",
      "\u001B[0;31mNameError\u001B[0m: name 'accuracy' is not defined"
     ]
    }
   ],
   "source": [
    "accuracy(X_train[random_idx_train, :], y_train[random_idx_train, :])"
   ]
  },
  {
   "cell_type": "code",
   "execution_count": 5,
   "id": "6c81e32f",
   "metadata": {},
   "outputs": [
    {
     "ename": "NameError",
     "evalue": "name 'accuracy' is not defined",
     "output_type": "error",
     "traceback": [
      "\u001B[0;31m---------------------------------------------------------------------------\u001B[0m",
      "\u001B[0;31mNameError\u001B[0m                                 Traceback (most recent call last)",
      "\u001B[0;32m<ipython-input-5-18bccb082679>\u001B[0m in \u001B[0;36m<module>\u001B[0;34m\u001B[0m\n\u001B[0;32m----> 1\u001B[0;31m \u001B[0maccuracy\u001B[0m\u001B[0;34m(\u001B[0m\u001B[0mX_valid\u001B[0m\u001B[0;34m[\u001B[0m\u001B[0mrandom_idx_valid\u001B[0m\u001B[0;34m,\u001B[0m \u001B[0;34m:\u001B[0m\u001B[0;34m]\u001B[0m\u001B[0;34m,\u001B[0m \u001B[0my_valid\u001B[0m\u001B[0;34m[\u001B[0m\u001B[0mrandom_idx_valid\u001B[0m\u001B[0;34m,\u001B[0m \u001B[0;34m:\u001B[0m\u001B[0;34m]\u001B[0m\u001B[0;34m)\u001B[0m\u001B[0;34m\u001B[0m\u001B[0;34m\u001B[0m\u001B[0m\n\u001B[0m\u001B[1;32m      2\u001B[0m \u001B[0;34m\u001B[0m\u001B[0m\n",
      "\u001B[0;31mNameError\u001B[0m: name 'accuracy' is not defined"
     ]
    }
   ],
   "source": [
    "accuracy(X_valid[random_idx_valid, :], y_valid[random_idx_valid, :])"
   ]
  },
  {
   "cell_type": "code",
   "execution_count": 6,
   "id": "planned-medication",
   "metadata": {},
   "outputs": [
    {
     "ename": "NameError",
     "evalue": "name 'destroy_mlp_model' is not defined",
     "output_type": "error",
     "traceback": [
      "\u001B[0;31m---------------------------------------------------------------------------\u001B[0m",
      "\u001B[0;31mNameError\u001B[0m                                 Traceback (most recent call last)",
      "\u001B[0;32m<ipython-input-6-bac51c14981a>\u001B[0m in \u001B[0;36m<module>\u001B[0;34m\u001B[0m\n\u001B[0;32m----> 1\u001B[0;31m \u001B[0mdestroy_mlp_model\u001B[0m\u001B[0;34m(\u001B[0m\u001B[0mp_model\u001B[0m\u001B[0;34m)\u001B[0m\u001B[0;34m\u001B[0m\u001B[0;34m\u001B[0m\u001B[0m\n\u001B[0m\u001B[1;32m      2\u001B[0m \u001B[0;34m\u001B[0m\u001B[0m\n",
      "\u001B[0;31mNameError\u001B[0m: name 'destroy_mlp_model' is not defined"
     ]
    }
   ],
   "source": [
    "destroy_mlp_model(p_model)"
   ]
  },
  {
   "cell_type": "markdown",
   "id": "1ba37735",
   "metadata": {},
   "source": [
    "## MLP - Discover new architectures"
   ]
  }
 ],
 "metadata": {
  "kernelspec": {
   "display_name": "Python 3",
   "language": "python",
   "name": "python3"
  },
  "language_info": {
   "codemirror_mode": {
    "name": "ipython",
    "version": 3
   },
   "file_extension": ".py",
   "mimetype": "text/x-python",
   "name": "python",
   "nbconvert_exporter": "python",
   "pygments_lexer": "ipython3",
   "version": "3.8.8"
  }
 },
 "nbformat": 4,
 "nbformat_minor": 5
}