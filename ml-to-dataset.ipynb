{
 "cells": [
  {
   "cell_type": "code",
   "execution_count": 44,
   "id": "6834df61",
   "metadata": {},
   "outputs": [],
   "source": [
    "from ml import *\n",
    "import numpy as np\n",
    "import pandas as pd\n",
    "from PIL import Image\n",
    "import os"
   ]
  },
  {
   "cell_type": "code",
   "execution_count": 52,
   "id": "bdf9b392",
   "metadata": {},
   "outputs": [],
   "source": [
    "PATH = \"data/\"\n",
    "TRAIN = PATH + \"/train/\"\n",
    "TEST = PATH + \"/test/\"\n",
    "monuments = ['moulin-rouge', 'palais-de-l-elysee', 'pont-neuf', 'place-de-la-concorde', 'jardin-des-tuileries', 'hotel-de-ville', 'arc-de-triomphe', 'musee-d-orsay']"
   ]
  },
  {
   "cell_type": "code",
   "execution_count": 56,
   "id": "42f3bec6",
   "metadata": {},
   "outputs": [
    {
     "data": {
      "text/html": [
       "<div>\n",
       "<style scoped>\n",
       "    .dataframe tbody tr th:only-of-type {\n",
       "        vertical-align: middle;\n",
       "    }\n",
       "\n",
       "    .dataframe tbody tr th {\n",
       "        vertical-align: top;\n",
       "    }\n",
       "\n",
       "    .dataframe thead th {\n",
       "        text-align: right;\n",
       "    }\n",
       "</style>\n",
       "<table border=\"1\" class=\"dataframe\">\n",
       "  <thead>\n",
       "    <tr style=\"text-align: right;\">\n",
       "      <th></th>\n",
       "      <th>paths</th>\n",
       "    </tr>\n",
       "  </thead>\n",
       "  <tbody>\n",
       "    <tr>\n",
       "      <th>0</th>\n",
       "      <td>data/valid/moulin-rouge/imagesqtbn3AANd9GcRmHO...</td>\n",
       "    </tr>\n",
       "    <tr>\n",
       "      <th>1</th>\n",
       "      <td>data/valid/moulin-rouge/imagesqtbn3AANd9GcQ1jc...</td>\n",
       "    </tr>\n",
       "    <tr>\n",
       "      <th>2</th>\n",
       "      <td>data/valid/moulin-rouge/imagesqtbn3AANd9GcRXOS...</td>\n",
       "    </tr>\n",
       "    <tr>\n",
       "      <th>3</th>\n",
       "      <td>data/valid/moulin-rouge/imagesqtbn3AANd9GcQ2xX...</td>\n",
       "    </tr>\n",
       "    <tr>\n",
       "      <th>4</th>\n",
       "      <td>data/valid/moulin-rouge/imagesqtbn3AANd9GcTwoB...</td>\n",
       "    </tr>\n",
       "  </tbody>\n",
       "</table>\n",
       "</div>"
      ],
      "text/plain": [
       "                                               paths\n",
       "0  data/valid/moulin-rouge/imagesqtbn3AANd9GcRmHO...\n",
       "1  data/valid/moulin-rouge/imagesqtbn3AANd9GcQ1jc...\n",
       "2  data/valid/moulin-rouge/imagesqtbn3AANd9GcRXOS...\n",
       "3  data/valid/moulin-rouge/imagesqtbn3AANd9GcQ2xX...\n",
       "4  data/valid/moulin-rouge/imagesqtbn3AANd9GcTwoB..."
      ]
     },
     "execution_count": 56,
     "metadata": {},
     "output_type": "execute_result"
    }
   ],
   "source": [
    "\"\"\"for set_type in os.listdir(PATH):\n",
    "    for directory in os.listdir(PATH+set_type):\n",
    "        for folder in os.listdir(TRAIN+directory):\n",
    "            print(PATH+set_type+\"/\"+directory+\"/\"+folder)\n",
    "\"\"\"\n",
    "\n",
    "dict = {}\n",
    "paths = []\n",
    "\n",
    "for set_type in [\"valid\", \"train\"]:\n",
    "    for cl in monuments:\n",
    "        for fi in os.listdir(os.path.join(PATH, set_type, cl)):\n",
    "            paths.append(PATH+set_type+\"/\"+cl+\"/\"+fi)\n",
    "\n",
    "dict[\"paths\"] = paths\n",
    "df = pd.DataFrame(dict)\n",
    "df.head()"
   ]
  },
  {
   "cell_type": "code",
   "execution_count": 62,
   "id": "53c7ea66",
   "metadata": {},
   "outputs": [
    {
     "name": "stdout",
     "output_type": "stream",
     "text": [
      "['data', 'valid', 'moulin-rouge', 'imagesqtbn3AANd9GcQ1jcIjjQwWxAqdqUWadGrthfsjp25MNBa9wdrpvToahjnLMwSusqpCAU.jpg']\n"
     ]
    }
   ],
   "source": [
    "#df[\"set_type\"] = \n",
    "print(df[\"paths\"].str.split(\"/\")[1])"
   ]
  }
 ],
 "metadata": {
  "kernelspec": {
   "display_name": "Python 3",
   "language": "python",
   "name": "python3"
  },
  "language_info": {
   "codemirror_mode": {
    "name": "ipython",
    "version": 3
   },
   "file_extension": ".py",
   "mimetype": "text/x-python",
   "name": "python",
   "nbconvert_exporter": "python",
   "pygments_lexer": "ipython3",
   "version": "3.8.8"
  }
 },
 "nbformat": 4,
 "nbformat_minor": 5
}
