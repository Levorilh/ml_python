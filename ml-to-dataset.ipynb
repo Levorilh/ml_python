{
 "cells": [
  {
   "cell_type": "markdown",
   "id": "f346e3e6",
   "metadata": {},
   "source": [
    "## Import dataset"
   ]
  },
  {
   "cell_type": "code",
   "execution_count": 1,
   "id": "fded975a",
   "metadata": {},
   "outputs": [],
   "source": [
    "import numpy as np\n",
    "import os\n",
    "from PIL import Image\n",
    "import matplotlib.pyplot as plt\n",
    "from ml import *"
   ]
  },
  {
   "cell_type": "code",
   "execution_count": 2,
   "id": "dfbf24dd",
   "metadata": {},
   "outputs": [],
   "source": [
    "IMG_SIZE = (64, 64)\n",
    "PATH = os.path.join(\"data_large/\")\n",
    "TRAIN = os.path.join(PATH, \"train\")\n",
    "classes = os.listdir(TRAIN)"
   ]
  },
  {
   "cell_type": "code",
   "execution_count": 3,
   "id": "89634d51",
   "metadata": {},
   "outputs": [
    {
     "data": {
      "text/plain": [
       "['moulin-rouge',\n",
       " 'palais-de-l-elysee',\n",
       " 'pont-neuf',\n",
       " 'place-de-la-concorde',\n",
       " 'jardin-des-tuileries',\n",
       " 'hotel-de-ville',\n",
       " 'arc-de-triomphe',\n",
       " 'musee-d-orsay']"
      ]
     },
     "execution_count": 3,
     "metadata": {},
     "output_type": "execute_result"
    }
   ],
   "source": [
    "classes"
   ]
  },
  {
   "cell_type": "code",
   "execution_count": 4,
   "id": "7056f005",
   "metadata": {},
   "outputs": [],
   "source": [
    "def import_images_and_assign_labels(folder, label, X, Y):\n",
    "    for file in os.listdir(folder):\n",
    "        image_path = os.path.join(folder, file)\n",
    "        im = Image.open(image_path)\n",
    "        im = im.resize(IMG_SIZE)\n",
    "        im = im.convert(\"RGB\")\n",
    "        im_arr = np.array(im)\n",
    "        im_arr = np.reshape(im_arr, (IMG_SIZE[0]* IMG_SIZE[1] * 3,))\n",
    "        X.append(im_arr)\n",
    "        Y.append(label)"
   ]
  },
  {
   "cell_type": "code",
   "execution_count": 5,
   "id": "cefe14ee",
   "metadata": {},
   "outputs": [
    {
     "data": {
      "text/plain": [
       "487"
      ]
     },
     "execution_count": 5,
     "metadata": {},
     "output_type": "execute_result"
    }
   ],
   "source": [
    "len(os.listdir(os.path.join(PATH, \"train\", \"pont-neuf\")))"
   ]
  },
  {
   "cell_type": "code",
   "execution_count": 6,
   "id": "c0f7a554",
   "metadata": {},
   "outputs": [],
   "source": [
    "def import_dataset():\n",
    "    X_train, y_train, X_valid, y_valid = [], [], [], []\n",
    "    labels = np.identity(len(os.listdir(TRAIN)))        \n",
    "    for set_type in [\"train\", \"valid\"]:\n",
    "        for cl, lab in zip(classes, labels):\n",
    "            if set_type == \"train\":\n",
    "                X_set, y_set = X_train, y_train\n",
    "            else:\n",
    "                X_set, y_set = X_valid, y_valid\n",
    "            import_images_and_assign_labels(\n",
    "                os.path.join(PATH, set_type, cl),\n",
    "                lab,\n",
    "                X_set,\n",
    "                y_set\n",
    "            )                \n",
    "    \n",
    "    return (np.array(X_train) / 255.0, np.array(y_train)), \\\n",
    "           (np.array(X_valid) / 255.0, np.array(y_valid))"
   ]
  },
  {
   "cell_type": "code",
   "execution_count": 7,
   "id": "945813bc",
   "metadata": {},
   "outputs": [],
   "source": [
    "(X_train, y_train), (X_valid, y_valid) = import_dataset()"
   ]
  },
  {
   "cell_type": "code",
   "execution_count": 8,
   "id": "98fba64a",
   "metadata": {},
   "outputs": [],
   "source": [
    "def showImg(tensor, label, prediction):\n",
    "    fig, ax = plt.subplots()\n",
    "    ax.imshow(tensor.reshape((IMG_SIZE[0], IMG_SIZE[1], 3)))\n",
    "    ax.set_title(f'Label: {classes[np.argmax(label)]}')\n",
    "    ax.set_xlabel(f'Prediction: {np.argmax(prediction)} / Expected output: {np.argmax(label)}')\n",
    "    ax.set_xticks([])\n",
    "    ax.set_yticks([]);\n",
    "    return ax"
   ]
  },
  {
   "cell_type": "markdown",
   "id": "6732db63",
   "metadata": {},
   "source": [
    "## Linear"
   ]
  },
  {
   "cell_type": "code",
   "execution_count": 9,
   "id": "507ef8b4",
   "metadata": {},
   "outputs": [],
   "source": [
    "input_dim = len(X_train[0])"
   ]
  },
  {
   "cell_type": "code",
   "execution_count": 10,
   "id": "0321b704",
   "metadata": {},
   "outputs": [],
   "source": [
    "p_model = create_linear_model(input_dim)"
   ]
  },
  {
   "cell_type": "code",
   "execution_count": 11,
   "id": "20f8bdb0",
   "metadata": {},
   "outputs": [
    {
     "name": "stdout",
     "output_type": "stream",
     "text": [
      "Before training: 1.0\n"
     ]
    }
   ],
   "source": [
    "picture_test = np.random.randint(0, len(X_train))\n",
    "test_before = predict_linear_model_classif(p_model, input_dim, X_train[picture_test])\n",
    "print(\"Before training:\", test_before)"
   ]
  },
  {
   "cell_type": "code",
   "execution_count": 12,
   "id": "cfd3e8b8",
   "metadata": {},
   "outputs": [],
   "source": [
    "train_linear_classification_model(p_model, input_dim, X_train, y_train.flatten())"
   ]
  },
  {
   "cell_type": "code",
   "execution_count": 13,
   "id": "f724ea44",
   "metadata": {},
   "outputs": [
    {
     "name": "stdout",
     "output_type": "stream",
     "text": [
      "After training: -1.0\n"
     ]
    }
   ],
   "source": [
    "test_after = predict_linear_model_classif(p_model, input_dim, X_train[picture_test])\n",
    "print(\"After training:\", test_after)"
   ]
  },
  {
   "cell_type": "code",
   "execution_count": 14,
   "id": "8502c059",
   "metadata": {},
   "outputs": [],
   "source": [
    "destroy_linear_model(p_model)"
   ]
  },
  {
   "cell_type": "markdown",
   "id": "6345f8b9",
   "metadata": {},
   "source": [
    "## MLP (Classique)"
   ]
  },
  {
   "cell_type": "code",
   "execution_count": 15,
   "id": "b0043ec2",
   "metadata": {},
   "outputs": [],
   "source": [
    "input_dim = [len(X_train[0]), 32, 8]"
   ]
  },
  {
   "cell_type": "code",
   "execution_count": 16,
   "id": "8ea72e16",
   "metadata": {},
   "outputs": [],
   "source": [
    "p_model, len_output_layer = create_mlp_model(input_dim)"
   ]
  },
  {
   "cell_type": "code",
   "execution_count": 17,
   "id": "3aba8599",
   "metadata": {},
   "outputs": [],
   "source": [
    "def accuracy(X, Y, model=p_model, len_output_layer=len_output_layer):\n",
    "    true_preds = 0\n",
    "    total_preds = len(X)\n",
    "    for x, y in zip(X, Y):\n",
    "        if np.argmax(predict_mlp_model_classification(model, x, len_output_layer)) == np.argmax(y):\n",
    "            true_preds += 1\n",
    "    print(f\"Accuracy: {round((true_preds / total_preds) * 100, 2)}%\")"
   ]
  },
  {
   "cell_type": "code",
   "execution_count": 18,
   "id": "3ce1d6ff",
   "metadata": {},
   "outputs": [],
   "source": [
    "picture_test = np.random.randint(0, len(X_valid)-1)"
   ]
  },
  {
   "cell_type": "code",
   "execution_count": 19,
   "id": "4ace1476",
   "metadata": {},
   "outputs": [
    {
     "name": "stdout",
     "output_type": "stream",
     "text": [
      "Before training: [0.9999896, 0.58330935, 0.9942315, 0.9990622, 0.35658413, -0.99259573, 0.98058885, 0.8140469]\n"
     ]
    }
   ],
   "source": [
    "test_before = predict_mlp_model_classification(p_model, X_valid[picture_test], len_output_layer)\n",
    "print(\"Before training:\", test_before)"
   ]
  },
  {
   "cell_type": "code",
   "execution_count": 20,
   "id": "a07d599d",
   "metadata": {},
   "outputs": [
    {
     "data": {
      "image/png": "[encoded data removed]",
      "text/plain": [
       "<Figure size 432x288 with 1 Axes>"
      ]
     },
     "metadata": {},
     "output_type": "display_data"
    }
   ],
   "source": [
    "showImg(X_valid[picture_test], y_valid[picture_test], test_before);"
   ]
  },
  {
   "cell_type": "code",
   "execution_count": 21,
   "id": "aab25861",
   "metadata": {},
   "outputs": [
    {
     "name": "stdout",
     "output_type": "stream",
     "text": [
      "Accuracy: 41.33%\n"
     ]
    }
   ],
   "source": [
    "accuracy(X_train[:150], y_train[:150])"
   ]
  },
  {
   "cell_type": "code",
   "execution_count": 22,
   "id": "99e4d080",
   "metadata": {},
   "outputs": [
    {
     "name": "stdout",
     "output_type": "stream",
     "text": [
      "Accuracy: 37.33%\n"
     ]
    }
   ],
   "source": [
    "accuracy(X_valid[:150], y_valid[:150])"
   ]
  },
  {
   "cell_type": "code",
   "execution_count": 23,
   "id": "657693f7",
   "metadata": {
    "pycharm": {
     "is_executing": true
    }
   },
   "outputs": [],
   "source": [
    "train_classification_stochastic_gradient_backpropagation_mlp_model(p_model, X_train, y_train.flatten(), epochs=10000)#, alpha=0.01)"
   ]
  },
  {
   "cell_type": "code",
   "execution_count": 24,
   "id": "hindu-stranger",
   "metadata": {
    "pycharm": {
     "is_executing": true
    }
   },
   "outputs": [
    {
     "name": "stdout",
     "output_type": "stream",
     "text": [
      "After training: [0.03174454, 0.17628011, 0.046879683, 0.9999521, 0.10234659, 0.11331837, 0.18816318, 0.10785432]\n",
      "Class index :  3\n",
      "Class expected : 1\n"
     ]
    }
   ],
   "source": [
    "test_after = predict_mlp_model_classification(p_model, X_valid[picture_test], len_output_layer)\n",
    "\n",
    "print(\"After training:\", test_after)\n",
    "print(\"Class index : \", np.argmax(test_after))\n",
    "print(\"Class expected :\", np.argmax(y_train[picture_test]))"
   ]
  },
  {
   "cell_type": "code",
   "execution_count": 25,
   "id": "1e498293",
   "metadata": {
    "pycharm": {
     "is_executing": true
    }
   },
   "outputs": [
    {
     "data": {
      "image/png": "[encoded data removed]",
      "text/plain": [
       "<Figure size 432x288 with 1 Axes>"
      ]
     },
     "metadata": {},
     "output_type": "display_data"
    }
   ],
   "source": [
    "showImg(X_valid[picture_test], y_valid[picture_test], test_after);"
   ]
  },
  {
   "cell_type": "code",
   "execution_count": null,
   "id": "118495c6",
   "metadata": {
    "pycharm": {
     "is_executing": true
    }
   },
   "outputs": [],
   "source": [
    "accuracy(X_train[:150], y_train[:150])"
   ]
  },
  {
   "cell_type": "code",
   "execution_count": null,
   "id": "6c81e32f",
   "metadata": {},
   "outputs": [],
   "source": [
    "accuracy(X_valid[:150], y_valid[:150])"
   ]
  },
  {
   "cell_type": "code",
   "execution_count": null,
   "id": "planned-medication",
   "metadata": {
    "pycharm": {
     "is_executing": true
    }
   },
   "outputs": [],
   "source": [
    "destroy_mlp_model(p_model)"
   ]
  },
  {
   "cell_type": "markdown",
   "id": "1ba37735",
   "metadata": {},
   "source": [
    "## MLP - Discover new architectures"
   ]
  }
 ],
 "metadata": {
  "kernelspec": {
   "display_name": "Python 3",
   "language": "python",
   "name": "python3"
  },
  "language_info": {
   "codemirror_mode": {
    "name": "ipython",
    "version": 3
   },
   "file_extension": ".py",
   "mimetype": "text/x-python",
   "name": "python",
   "nbconvert_exporter": "python",
   "pygments_lexer": "ipython3",
   "version": "3.8.8"
  }
 },
 "nbformat": 4,
 "nbformat_minor": 5
}
