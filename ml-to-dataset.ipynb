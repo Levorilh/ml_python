{
 "cells": [
  {
   "cell_type": "markdown",
   "id": "f346e3e6",
   "metadata": {},
   "source": [
    "## Import dataset"
   ]
  },
  {
   "cell_type": "code",
   "execution_count": 1,
   "id": "fded975a",
   "metadata": {},
   "outputs": [],
   "source": [
    "import numpy as np\n",
    "import os\n",
    "from PIL import Image\n",
    "from ml import *"
   ]
  },
  {
   "cell_type": "code",
   "execution_count": 2,
   "id": "dfbf24dd",
   "metadata": {},
   "outputs": [],
   "source": [
    "IMG_SIZE = (8, 8)\n",
    "PATH = os.path.join(\"data/\")\n",
    "TRAIN = os.path.join(PATH, \"train\")\n",
    "classes = os.listdir(TRAIN)"
   ]
  },
  {
   "cell_type": "code",
   "execution_count": 3,
   "id": "89634d51",
   "metadata": {},
   "outputs": [
    {
     "data": {
      "text/plain": [
       "['moulin-rouge',\n",
       " 'palais-de-l-elysee',\n",
       " 'pont-neuf',\n",
       " 'place-de-la-concorde',\n",
       " 'jardin-des-tuileries',\n",
       " 'hotel-de-ville',\n",
       " 'arc-de-triomphe',\n",
       " 'musee-d-orsay']"
      ]
     },
     "execution_count": 3,
     "metadata": {},
     "output_type": "execute_result"
    }
   ],
   "source": [
    "classes"
   ]
  },
  {
   "cell_type": "code",
   "execution_count": 4,
   "id": "7056f005",
   "metadata": {},
   "outputs": [],
   "source": [
    "def import_images_and_assign_labels(folder, label, X, Y):\n",
    "    for file in os.listdir(folder):\n",
    "        image_path = os.path.join(folder, file)\n",
    "        im = Image.open(image_path)\n",
    "        im = im.resize((8, 8))\n",
    "        im = im.convert(\"RGB\")\n",
    "        im_arr = np.array(im)\n",
    "        im_arr = np.reshape(im_arr, (8 * 8 * 3))\n",
    "        X.append(im_arr)\n",
    "        Y.append(label)"
   ]
  },
  {
   "cell_type": "code",
   "execution_count": 5,
   "id": "cefe14ee",
   "metadata": {},
   "outputs": [
    {
     "data": {
      "text/plain": [
       "487"
      ]
     },
     "execution_count": 5,
     "metadata": {},
     "output_type": "execute_result"
    }
   ],
   "source": [
    "len(os.listdir(os.path.join(PATH, \"train\", \"pont-neuf\")))"
   ]
  },
  {
   "cell_type": "code",
   "execution_count": 6,
   "id": "c0f7a554",
   "metadata": {},
   "outputs": [],
   "source": [
    "def import_dataset():\n",
    "    X_train, y_train, X_valid, y_valid = [], [], [], []\n",
    "    labels = np.identity(len(os.listdir(TRAIN))-1)\n",
    "\n",
    "    for set_type in [\"train\", \"valid\"]:\n",
    "        for cl, lab in zip(classes, labels):\n",
    "            if set_type == \"train\":\n",
    "                X_set, y_set = X_train, y_train\n",
    "            else:\n",
    "                X_set, y_set = X_valid, y_valid\n",
    "            import_images_and_assign_labels(\n",
    "                os.path.join(PATH, set_type, cl),\n",
    "                lab,\n",
    "                X_set,\n",
    "                y_set\n",
    "            )                \n",
    "    \n",
    "    return (np.array(X_train) / 255.0, np.array(y_train)), \\\n",
    "           (np.array(X_valid) / 255.0, np.array(y_valid))"
   ]
  },
  {
   "cell_type": "code",
   "execution_count": 7,
   "id": "945813bc",
   "metadata": {},
   "outputs": [],
   "source": [
    "(X_train, y_train), (X_valid, y_valid) = import_dataset()"
   ]
  },
  {
   "cell_type": "code",
   "execution_count": 8,
   "id": "b0043ec2",
   "metadata": {},
   "outputs": [],
   "source": [
    "train_ex = X_train[0].tolist()"
   ]
  },
  {
   "cell_type": "code",
   "execution_count": null,
   "id": "3ce1d6ff",
   "metadata": {},
   "outputs": [],
   "source": [
    "input_dim = [len(X_train[0]), 8]\n",
    "\n",
    "p_model, len_output_layer = create_mlp_model(input_dim)\n",
    "test_before = predict_mlp_model_classification(p_model, train_ex, len_output_layer)\n",
    "\n",
    "print(\"Before training:\", test_before)\n",
    "\n",
    "train_classification_stochastic_gradient_backpropagation_mlp_model(p_model, X_train, y_train.flatten(), epochs=100)\n",
    "\n",
    "test_after = predict_mlp_model_classification(p_model, train_ex, len_output_layer)\n",
    "\n",
    "print(\"After training:\", test_after)\n",
    "\n",
    "destroy_mlp_model(p_model)"
   ]
  },
  {
   "cell_type": "code",
   "execution_count": null,
   "id": "657693f7",
   "metadata": {},
   "outputs": [],
   "source": []
  }
 ],
 "metadata": {
  "kernelspec": {
   "display_name": "Python 3",
   "language": "python",
   "name": "python3"
  },
  "language_info": {
   "codemirror_mode": {
    "name": "ipython",
    "version": 3
   },
   "file_extension": ".py",
   "mimetype": "text/x-python",
   "name": "python",
   "nbconvert_exporter": "python",
   "pygments_lexer": "ipython3",
   "version": "3.8.8"
  }
 },
 "nbformat": 4,
 "nbformat_minor": 5
}
