{
 "cells": [
  {
   "cell_type": "code",
   "execution_count": 1,
   "id": "0d1945ac",
   "metadata": {},
   "outputs": [],
   "source": [
    "import os\n",
    "from PIL import Image\n",
    "import numpy as np\n",
    "import pandas as pd\n",
    "import matplotlib.pyplot as plt\n",
    "\n",
    "from ml import *\n",
    "#!conda install torchvision -y\n",
    "from torchvision.datasets import ImageFolder\n",
    "from torchvision import transforms\n",
    "\n",
    "import warnings\n",
    "warnings.simplefilter(action='ignore', category=FutureWarning)"
   ]
  },
  {
   "cell_type": "markdown",
   "id": "e2b535a4",
   "metadata": {},
   "source": [
    "## Préparation des données"
   ]
  },
  {
   "cell_type": "markdown",
   "id": "f9044f2a",
   "metadata": {},
   "source": [
    "Notre dataset contient environ 4400 images répartis en 8 classes de monuments. Nous avons aussi divisé les données en 3 parties:\n",
    "- les données d'entraînement `training set`,\n",
    "- les données de validation `validation set`\n",
    "et enfin\n",
    "- les données de test `test set`\n",
    "\n",
    "Les images de notre dataset ne sont pas tous de la même taille."
   ]
  },
  {
   "cell_type": "code",
   "execution_count": 2,
   "id": "00af5344",
   "metadata": {},
   "outputs": [
    {
     "name": "stdout",
     "output_type": "stream",
     "text": [
      "['valid', '.DS_Store', 'test', 'train']\n",
      "['moulin-rouge', 'palais-de-l-elysee', 'pont-neuf', 'place-de-la-concorde', 'jardin-des-tuileries', 'hotel-de-ville', 'arc-de-triomphe', 'musee-d-orsay']\n"
     ]
    }
   ],
   "source": [
    "data_dir = \"data/\"\n",
    "print(os.listdir(data_dir))\n",
    "\n",
    "classes = os.listdir(data_dir + \"/train\")\n",
    "print(classes)"
   ]
  },
  {
   "cell_type": "code",
   "execution_count": 3,
   "id": "fc7b101e",
   "metadata": {},
   "outputs": [
    {
     "name": "stdout",
     "output_type": "stream",
     "text": [
      "Nombre de données d'entraînement de la classe moulin-rouge: 391\n",
      "Nombre de données d'entraînement de la classe pont-neuf: 487\n"
     ]
    }
   ],
   "source": [
    "moulin_rouge_files = os.listdir(data_dir+\"/train/moulin-rouge\")\n",
    "print(\"Nombre de données d'entraînement de la classe moulin-rouge:\", len(moulin_rouge_files))\n",
    "\n",
    "pont_neuf_files = os.listdir(data_dir+\"/train/pont-neuf\")\n",
    "print(\"Nombre de données d'entraînement de la classe pont-neuf:\", len(pont_neuf_files))"
   ]
  },
  {
   "cell_type": "code",
   "execution_count": 4,
   "id": "06ba7e37",
   "metadata": {},
   "outputs": [],
   "source": [
    "train_dataset = ImageFolder(data_dir+'/train', transform=transforms.Compose([\n",
    "                                                                        transforms.ToTensor(),\n",
    "                                                                        transforms.Resize((8, 8))\n",
    "                                                                        ]))\n",
    "\n",
    "valid_dataset = ImageFolder(data_dir+'/valid', transform=transforms.Compose([\n",
    "                                                                        transforms.ToTensor(),\n",
    "                                                                        transforms.Resize((8, 8))\n",
    "                                                                        ]))"
   ]
  },
  {
   "cell_type": "code",
   "execution_count": 5,
   "id": "379f0809",
   "metadata": {},
   "outputs": [
    {
     "name": "stdout",
     "output_type": "stream",
     "text": [
      "['arc-de-triomphe', 'hotel-de-ville', 'jardin-des-tuileries', 'moulin-rouge', 'musee-d-orsay', 'palais-de-l-elysee', 'place-de-la-concorde', 'pont-neuf']\n"
     ]
    }
   ],
   "source": [
    "print(train_dataset.classes)"
   ]
  },
  {
   "cell_type": "code",
   "execution_count": 6,
   "id": "e7f58579",
   "metadata": {},
   "outputs": [],
   "source": [
    "def showImg(tensor, label):\n",
    "    fig, ax = plt.subplots()\n",
    "    ax.imshow(tensor.permute(1, 2, 0))\n",
    "    ax.set_title(f'Label: {train_dataset.classes[label]} ({str(label)})')\n",
    "    ax.set_xlabel(f'{tensor.shape}')\n",
    "    ax.set_xticks([])\n",
    "    ax.set_yticks([]);\n",
    "    return ax"
   ]
  },
  {
   "cell_type": "code",
   "execution_count": 7,
   "id": "5c066794",
   "metadata": {},
   "outputs": [
    {
     "data": {
      "image/png": "[encoded data removed]",
      "text/plain": [
       "<Figure size 432x288 with 1 Axes>"
      ]
     },
     "metadata": {},
     "output_type": "display_data"
    }
   ],
   "source": [
    "img, label = train_dataset[0]\n",
    "\n",
    "showImg(img, label);"
   ]
  },
  {
   "cell_type": "code",
   "execution_count": 8,
   "id": "e29bf5c0",
   "metadata": {},
   "outputs": [
    {
     "data": {
      "image/png": "[encoded data removed]",
      "text/plain": [
       "<Figure size 432x288 with 1 Axes>"
      ]
     },
     "metadata": {},
     "output_type": "display_data"
    }
   ],
   "source": [
    "showImg(*train_dataset[1000]);"
   ]
  },
  {
   "cell_type": "code",
   "execution_count": 9,
   "id": "1774a265",
   "metadata": {},
   "outputs": [],
   "source": [
    "#dataset[3416][0]\n",
    "X_train = np.array([np.array(train_dataset[i][0]).flatten() for i in range(len(train_dataset))])\n",
    "\n",
    "X_valid = np.array([np.array(valid_dataset[i][0]) for i in range(len(valid_dataset))])\n"
   ]
  },
  {
   "cell_type": "code",
   "execution_count": 10,
   "id": "f0c2a8fb",
   "metadata": {},
   "outputs": [
    {
     "name": "stdout",
     "output_type": "stream",
     "text": [
      "[[1 0 0 ... 0 0 0]\n",
      " [1 0 0 ... 0 0 0]\n",
      " [1 0 0 ... 0 0 0]\n",
      " ...\n",
      " [0 0 0 ... 0 0 1]\n",
      " [0 0 0 ... 0 0 1]\n",
      " [0 0 0 ... 0 0 1]]\n",
      "[[1 0 0 ... 0 0 0]\n",
      " [1 0 0 ... 0 0 0]\n",
      " [1 0 0 ... 0 0 0]\n",
      " ...\n",
      " [0 0 0 ... 0 0 1]\n",
      " [0 0 0 ... 0 0 1]\n",
      " [0 0 0 ... 0 0 1]]\n"
     ]
    }
   ],
   "source": [
    "Y_train = []\n",
    "\n",
    "for output in range(len(train_dataset)):\n",
    "    if train_dataset[output][1] == 0:\n",
    "        Y_train.append([1, 0, 0, 0, 0, 0, 0, 0])\n",
    "    elif train_dataset[output][1] == 1:\n",
    "        Y_train.append([0, 1, 0, 0, 0, 0, 0, 0])\n",
    "    elif train_dataset[output][1] == 2:\n",
    "        Y_train.append([0, 0, 1, 0, 0, 0, 0, 0])\n",
    "    elif train_dataset[output][1] == 3:\n",
    "        Y_train.append([0, 0, 0, 1, 0, 0, 0, 0])\n",
    "    elif train_dataset[output][1] == 4:\n",
    "        Y_train.append([0, 0, 0, 0, 1, 0, 0, 0])\n",
    "    elif train_dataset[output][1] == 5:\n",
    "        Y_train.append([0, 0, 0, 0, 0, 1, 0, 0])\n",
    "    elif train_dataset[output][1] == 6:\n",
    "        Y_train.append([0, 0, 0, 0, 0, 0, 1, 0])\n",
    "    elif train_dataset[output][1] == 7:\n",
    "        Y_train.append([0, 0, 0, 0, 0, 0, 0, 1])\n",
    "\n",
    "Y_train = np.array(Y_train)\n",
    "\n",
    "print(Y_train)\n",
    "\n",
    "Y_valid = []\n",
    "\n",
    "for output in range(len(valid_dataset)):\n",
    "    if valid_dataset[output][1] == 0:\n",
    "        Y_valid.append([1, 0, 0, 0, 0, 0, 0, 0])\n",
    "    elif valid_dataset[output][1] == 1:\n",
    "        Y_valid.append([0, 1, 0, 0, 0, 0, 0, 0])\n",
    "    elif valid_dataset[output][1] == 2:\n",
    "        Y_valid.append([0, 0, 1, 0, 0, 0, 0, 0])\n",
    "    elif valid_dataset[output][1] == 3:\n",
    "        Y_valid.append([0, 0, 0, 1, 0, 0, 0, 0])\n",
    "    elif valid_dataset[output][1] == 4:\n",
    "        Y_valid.append([0, 0, 0, 0, 1, 0, 0, 0])\n",
    "    elif valid_dataset[output][1] == 5:\n",
    "        Y_valid.append([0, 0, 0, 0, 0, 1, 0, 0])\n",
    "    elif valid_dataset[output][1] == 6:\n",
    "        Y_valid.append([0, 0, 0, 0, 0, 0, 1, 0])\n",
    "    elif valid_dataset[output][1] == 7:\n",
    "        Y_valid.append([0, 0, 0, 0, 0, 0, 0, 1])\n",
    "\n",
    "Y_valid = np.array(Y_valid)\n",
    "print(Y_valid)"
   ]
  },
  {
   "cell_type": "code",
   "execution_count": 11,
   "id": "31c2fdbd",
   "metadata": {},
   "outputs": [
    {
     "name": "stdout",
     "output_type": "stream",
     "text": [
      "3417\n",
      "3417\n"
     ]
    }
   ],
   "source": [
    "print(len(X_train))\n",
    "print(len(Y_train))"
   ]
  },
  {
   "cell_type": "markdown",
   "id": "f782f753",
   "metadata": {},
   "source": [
    "## MLP"
   ]
  },
  {
   "cell_type": "code",
   "execution_count": null,
   "id": "dae4a2ea",
   "metadata": {},
   "outputs": [],
   "source": [
    "input_dim = [len(X_train[0]), 8]\n",
    "\n",
    "p_model, len_output_layer = create_mlp_model(input_dim)\n",
    "test_before = predict_mlp_model_classification(p_model, X_train[0], len_output_layer)\n",
    "\n",
    "print(\"Before training:\", test_before)\n",
    "\n",
    "train_classification_stochastic_gradient_backpropagation_mlp_model(p_model, X_train.flatten(), Y_train.flatten(), epochs=10)\n",
    "\n",
    "test_after = predict_mlp_model_classification(p_model, X_train[0], len_output_layer)\n",
    "\n",
    "print(\"After training:\", test_after)"
   ]
  },
  {
   "cell_type": "markdown",
   "id": "f428e9e5",
   "metadata": {},
   "source": [
    "## Linear"
   ]
  },
  {
   "cell_type": "code",
   "execution_count": null,
   "id": "38584004",
   "metadata": {},
   "outputs": [],
   "source": [
    "# A faire"
   ]
  },
  {
   "cell_type": "code",
   "execution_count": null,
   "id": "b2fdd082",
   "metadata": {},
   "outputs": [],
   "source": []
  },
  {
   "cell_type": "code",
   "execution_count": null,
   "id": "43f0d45f",
   "metadata": {},
   "outputs": [],
   "source": []
  },
  {
   "cell_type": "code",
   "execution_count": null,
   "id": "27405d3e",
   "metadata": {},
   "outputs": [],
   "source": []
  },
  {
   "cell_type": "code",
   "execution_count": null,
   "id": "e85cc6c0",
   "metadata": {},
   "outputs": [],
   "source": []
  },
  {
   "cell_type": "code",
   "execution_count": null,
   "id": "84d82777",
   "metadata": {},
   "outputs": [],
   "source": []
  },
  {
   "cell_type": "code",
   "execution_count": null,
   "id": "6f485e39",
   "metadata": {},
   "outputs": [],
   "source": []
  },
  {
   "cell_type": "markdown",
   "id": "f346e3e6",
   "metadata": {},
   "source": [
    "## Import dataset"
   ]
  },
  {
   "cell_type": "code",
   "execution_count": 1,
   "id": "fded975a",
   "metadata": {},
   "outputs": [],
   "source": [
    "import numpy as np\n",
    "import os\n",
    "from PIL import Image\n",
    "from ml import *"
   ]
  },
  {
   "cell_type": "code",
   "execution_count": 2,
   "id": "dfbf24dd",
   "metadata": {},
   "outputs": [],
   "source": [
    "IMG_SIZE = (8, 8)\n",
    "PATH = os.path.join(\"data/\")\n",
    "TRAIN = os.path.join(PATH, \"train\")\n",
    "classes = os.listdir(TRAIN)"
   ]
  },
  {
   "cell_type": "code",
   "execution_count": 3,
   "id": "89634d51",
   "metadata": {},
   "outputs": [
    {
     "data": {
      "text/plain": [
       "['moulin-rouge',\n",
       " 'palais-de-l-elysee',\n",
       " 'pont-neuf',\n",
       " 'place-de-la-concorde',\n",
       " 'jardin-des-tuileries',\n",
       " 'hotel-de-ville',\n",
       " 'arc-de-triomphe',\n",
       " 'musee-d-orsay']"
      ]
     },
     "execution_count": 3,
     "metadata": {},
     "output_type": "execute_result"
    }
   ],
   "source": [
    "classes"
   ]
  },
  {
   "cell_type": "code",
   "execution_count": 4,
   "id": "7056f005",
   "metadata": {},
   "outputs": [],
   "source": [
    "def import_images_and_assign_labels(folder, label, X, Y):\n",
    "    for file in os.listdir(folder):\n",
    "        image_path = os.path.join(folder, file)\n",
    "        im = Image.open(image_path)\n",
    "        im = im.resize((8, 8))\n",
    "        im = im.convert(\"RGB\")\n",
    "        im_arr = np.array(im)\n",
    "        im_arr = np.reshape(im_arr, (8 * 8 * 3))\n",
    "        X.append(im_arr)\n",
    "        Y.append(label)"
   ]
  },
  {
   "cell_type": "code",
   "execution_count": 5,
   "id": "cefe14ee",
   "metadata": {},
   "outputs": [
    {
     "data": {
      "text/plain": [
       "487"
      ]
     },
     "execution_count": 5,
     "metadata": {},
     "output_type": "execute_result"
    }
   ],
   "source": [
    "len(os.listdir(os.path.join(PATH, \"train\", \"pont-neuf\")))"
   ]
  },
  {
   "cell_type": "code",
   "execution_count": 6,
   "id": "c0f7a554",
   "metadata": {},
   "outputs": [],
   "source": [
    "def import_dataset():\n",
    "    X_train, y_train, X_valid, y_valid = [], [], [], []\n",
    "    labels = np.identity(len(os.listdir(TRAIN))-1)\n",
    "\n",
    "    for set_type in [\"train\", \"valid\"]:\n",
    "        for cl, lab in zip(classes, labels):\n",
    "            if set_type == \"train\":\n",
    "                X_set, y_set = X_train, y_train\n",
    "            else:\n",
    "                X_set, y_set = X_valid, y_valid\n",
    "            import_images_and_assign_labels(\n",
    "                os.path.join(PATH, set_type, cl),\n",
    "                lab,\n",
    "                X_set,\n",
    "                y_set\n",
    "            )                \n",
    "    \n",
    "    return (np.array(X_train) / 255.0, np.array(y_train)), \\\n",
    "           (np.array(X_valid) / 255.0, np.array(y_valid))"
   ]
  },
  {
   "cell_type": "code",
   "execution_count": 7,
   "id": "945813bc",
   "metadata": {},
   "outputs": [],
   "source": [
    "(X_train, y_train), (X_valid, y_valid) = import_dataset()"
   ]
  },
  {
   "cell_type": "code",
   "execution_count": 8,
   "id": "b0043ec2",
   "metadata": {},
   "outputs": [],
   "source": [
    "train_ex = X_train[0].tolist()"
   ]
  },
  {
   "cell_type": "code",
   "execution_count": null,
   "id": "3ce1d6ff",
   "metadata": {},
   "outputs": [],
   "source": [
    "input_dim = [len(X_train[0]), 8]\n",
    "\n",
    "p_model, len_output_layer = create_mlp_model(input_dim)\n",
    "test_before = predict_mlp_model_classification(p_model, train_ex, len_output_layer)\n",
    "\n",
    "print(\"Before training:\", test_before)\n",
    "\n",
    "train_classification_stochastic_gradient_backpropagation_mlp_model(p_model, X_train, y_train.flatten(), epochs=100)\n",
    "\n",
    "test_after = predict_mlp_model_classification(p_model, train_ex, len_output_layer)\n",
    "\n",
    "print(\"After training:\", test_after)\n",
    "\n",
    "destroy_mlp_model(p_model)"
   ]
  },
  {
   "cell_type": "code",
   "execution_count": null,
   "id": "657693f7",
   "metadata": {},
   "outputs": [],
   "source": []
  }
 ],
 "metadata": {
  "kernelspec": {
   "display_name": "Python 3",
   "language": "python",
   "name": "python3"
  },
  "language_info": {
   "codemirror_mode": {
    "name": "ipython",
    "version": 3
   },
   "file_extension": ".py",
   "mimetype": "text/x-python",
   "name": "python",
   "nbconvert_exporter": "python",
   "pygments_lexer": "ipython3",
   "version": "3.8.8"
  }
 },
 "nbformat": 4,
 "nbformat_minor": 5
}