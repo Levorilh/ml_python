{
 "cells": [
  {
   "cell_type": "markdown",
   "metadata": {
    "id": "12URBFa0yULK"
   },
   "source": [
    "# Imports"
   ]
  },
  {
   "cell_type": "code",
   "execution_count": 2,
   "metadata": {
    "id": "sXU99qaCyT8S"
   },
   "outputs": [],
   "source": [
    "import matplotlib.pyplot as plt\n",
    "import numpy as np\n",
    "from ml import *\n",
    "from rbfn import *"
   ]
  },
  {
   "cell_type": "markdown",
   "metadata": {
    "id": "MlaksdgDxaA6"
   },
   "source": [
    "# Cas de tests, rendu 2"
   ]
  },
  {
   "cell_type": "markdown",
   "metadata": {
    "id": "_qYwTgKqxnkl"
   },
   "source": [
    "## Classification"
   ]
  },
  {
   "cell_type": "markdown",
   "metadata": {
    "id": "-d0zULTsyFhh"
   },
   "source": [
    "### Linear Simple :\n",
    "        Linear Model : OK\n",
    "        MLP (2, 1)   : OK"
   ]
  },
  {
   "cell_type": "code",
   "execution_count": 16,
   "metadata": {
    "id": "EktwRhEMxV2A"
   },
   "outputs": [],
   "source": [
    "X = np.array([\n",
    "      [2.5, 4],\n",
    "      [2, 3],\n",
    "      [3, 3]\n",
    "])\n",
    "Y = np.array([\n",
    "      1,\n",
    "      -1,\n",
    "      -1\n",
    "])"
   ]
  },
  {
   "cell_type": "code",
   "execution_count": null,
   "metadata": {
    "colab": {
     "base_uri": "https://localhost:8080/",
     "height": 287
    },
    "id": "OpWOCJ5ZyDMY",
    "outputId": "25884536-e733-4cee-b175-79c147b7c927",
    "pycharm": {
     "is_executing": true
    }
   },
   "outputs": [],
   "source": [
    "plt.scatter(X[0, 0], X[0, 1], color='blue')\n",
    "plt.scatter(X[1:3,0], X[1:3,1], color='red')\n",
    "plt.show()\n",
    "plt.clf()"
   ]
  },
  {
   "cell_type": "code",
   "execution_count": null,
   "metadata": {
    "pycharm": {
     "is_executing": true
    }
   },
   "outputs": [],
   "source": [
    "model_dim = len(X[0])\n",
    "\n",
    "errors = 0\n",
    "\n",
    "for _ in range(50):\n",
    "    test_after = []\n",
    "    p_model = create_linear_model(model_dim)\n",
    "\n",
    "    train_linear_classification_model(p_model, model_dim, X, Y, alpha=0.001, epochs=10_000)\n",
    "\n",
    "    for data, expected in zip(X, Y):\n",
    "        out = predict_linear_model_classif(p_model, model_dim, data)\n",
    "        test_after.append(out)\n",
    "        if out != expected:\n",
    "            errors += 1\n",
    "    print(test_after)\n",
    "    destroy_linear_model(p_model)\n",
    "\n",
    "print(f\"errors: {errors}\")"
   ]
  },
  {
   "cell_type": "markdown",
   "metadata": {},
   "source": [
    "### Linear model (simple)"
   ]
  },
  {
   "cell_type": "code",
   "execution_count": null,
   "metadata": {
    "pycharm": {
     "is_executing": true
    }
   },
   "outputs": [],
   "source": [
    "input_dim = len(X[0])\n",
    "\n",
    "p_model = create_linear_model(input_dim)\n",
    "test_before = predict_linear_model_classif(p_model, input_dim, [1, 1])\n",
    "\n",
    "print(\"Before training:\", test_before)\n",
    "\n",
    "train_linear_classification_model(p_model, input_dim, X, Y, alpha=0.001, epochs=10000)\n",
    "\n",
    "\n",
    "test_after = predict_linear_model_classif(p_model, input_dim , [1, 1])\n",
    "\n",
    "print(\"After training:\",test_after)"
   ]
  },
  {
   "cell_type": "markdown",
   "metadata": {},
   "source": [
    "### Linear model (advanced)"
   ]
  },
  {
   "cell_type": "code",
   "execution_count": null,
   "metadata": {
    "pycharm": {
     "is_executing": true
    }
   },
   "outputs": [],
   "source": [
    "model = create_linear_model(input_dim)\n",
    "test_dataset = [[x1, x2] for x1 in np.arange(-1, 5, 0.5) for x2 in np.arange(-1, 5, 0.5)]\n",
    "colors = [\"blue\" if output >= 0 else \"red\" for output in Y]\n",
    "\n",
    "predicted_outputs = [predict_linear_model_classif(model, input_dim,  p) for p in test_dataset]\n",
    "predicted_outputs_colors = ['blue' if label == 1 else 'red' for label in predicted_outputs]\n",
    "plt.scatter([p[0] for p in test_dataset], [p[1] for p in test_dataset], c=predicted_outputs_colors)\n",
    "plt.scatter([p[0] for p in X], [p[1] for p in X], c=colors, s=200)\n",
    "plt.show()\n",
    "\n",
    "flattened_dataset_inputs = []\n",
    "for p in X:\n",
    "    flattened_dataset_inputs.append(p[0])\n",
    "    flattened_dataset_inputs.append(p[1])\n",
    "\n",
    "train_linear_classification_model(model, input_dim, flattened_dataset_inputs, Y, epochs=10000)\n",
    "\n",
    "\n",
    "predicted_outputs = [predict_linear_model_classif(model,input_dim,  p)  for p in test_dataset]\n",
    "predicted_outputs_colors = ['blue' if label == 1 else 'red' for label in predicted_outputs]\n",
    "plt.scatter([p[0] for p in test_dataset], [p[1] for p in test_dataset], c=predicted_outputs_colors)\n",
    "plt.scatter([p[0] for p in X], [p[1] for p in X], c=colors, s=200)\n",
    "plt.show()\n",
    "\n",
    "test_after = predict_linear_model_classif(p_model, input_dim, [1, 1])\n",
    "\n",
    "print(\"Prediction after training of [1, 1], the prediction need to be equal to 1. \\nPrediction:\", test_after)\n",
    "\n",
    "flattened_dataset_inputs = []\n",
    "for p in X:\n",
    "    flattened_dataset_inputs.append(p[0])\n",
    "    flattened_dataset_inputs.append(p[1])\n",
    "\n",
    "destroy_linear_model(model)"
   ]
  },
  {
   "cell_type": "markdown",
   "metadata": {},
   "source": [
    "### MLP (simple)"
   ]
  },
  {
   "cell_type": "code",
   "execution_count": null,
   "metadata": {
    "pycharm": {
     "is_executing": true
    }
   },
   "outputs": [],
   "source": [
    "input_dim = [len(X[0]), 1]\n",
    "\n",
    "p_model, _= create_mlp_model(input_dim)\n",
    "test_before = predict_mlp_model_classification(p_model, [1, 1])\n",
    "\n",
    "print(\"Before training:\", test_before)\n",
    "\n",
    "train_classification_stochastic_gradient_backpropagation_mlp_model(p_model, X, Y)\n",
    "\n",
    "test_after = predict_mlp_model_classification(p_model, [1, 1])\n",
    "\n",
    "print(\"After training:\", test_after)"
   ]
  },
  {
   "cell_type": "markdown",
   "metadata": {},
   "source": [
    "### MLP (advanced)"
   ]
  },
  {
   "cell_type": "code",
   "execution_count": null,
   "metadata": {
    "pycharm": {
     "is_executing": true
    }
   },
   "outputs": [],
   "source": [
    "model, _ = create_mlp_model(input_dim)\n",
    "test_dataset = [[x1, x2] for x1 in np.arange(-1, 5, 0.5) for x2 in np.arange(-1, 5, 0.5)]\n",
    "colors = [\"blue\" if output >= 0 else \"red\" for output in Y]\n",
    "\n",
    "predicted_outputs = [predict_mlp_model_classification(model,  p)  for p in test_dataset]\n",
    "#print(predicted_outputs)\n",
    "predicted_outputs_colors = ['blue' if label[0] >= 0 else 'red' for label in predicted_outputs]\n",
    "plt.scatter([p[0] for p in test_dataset], [p[1] for p in test_dataset], c=predicted_outputs_colors)\n",
    "plt.scatter([p[0] for p in X], [p[1] for p in X], c=colors, s=200)\n",
    "plt.show()\n",
    "\n",
    "flattened_dataset_inputs = []\n",
    "for p in X:\n",
    "    flattened_dataset_inputs.append(p[0])\n",
    "    flattened_dataset_inputs.append(p[1])\n",
    "\n",
    "train_classification_stochastic_gradient_backpropagation_mlp_model(model, X, Y)\n",
    "\n",
    "predicted_outputs = [predict_mlp_model_classification(model,  p)  for p in test_dataset]\n",
    "predicted_outputs_colors = ['blue' if label[0] >= 0 else 'red' for label in predicted_outputs]\n",
    "plt.scatter([p[0] for p in test_dataset], [p[1] for p in test_dataset], c=predicted_outputs_colors)\n",
    "plt.scatter([p[0] for p in X], [p[1] for p in X], c=colors, s=200)\n",
    "plt.show()\n",
    "\n",
    "test_after = predict_mlp_model_classification(p_model , [1, 1])\n",
    "\n",
    "print(\"Prediction after training of [1, 1], the result need to be equal to 1. Result:\", test_after)\n",
    "\n",
    "flattened_dataset_inputs = []\n",
    "for p in X:\n",
    "    flattened_dataset_inputs.append(p[0])\n",
    "    flattened_dataset_inputs.append(p[1])\n",
    "\n",
    "destroy_mlp_model(model)"
   ]
  },
  {
   "cell_type": "markdown",
   "metadata": {
    "pycharm": {
     "name": "#%% md\n"
    }
   },
   "source": [
    "### RBFN :"
   ]
  },
  {
   "cell_type": "code",
   "execution_count": 18,
   "metadata": {
    "pycharm": {
     "is_executing": true,
     "name": "#%%\n"
    }
   },
   "outputs": [
    {
     "data": {
      "image/png": "[encoded data removed]",
      "text/plain": [
       "<Figure size 432x288 with 1 Axes>"
      ]
     },
     "metadata": {
      "needs_background": "light"
     },
     "output_type": "display_data"
    }
   ],
   "source": [
    "num_classes = 2\n",
    "k = 2\n",
    "input_dim = 2\n",
    "expected_output = [[1,0] if label >= 0 else [0,1] for label in Y]\n",
    "model = create_rbfn_model(input_dim, num_classes, k)\n",
    "train_rbfn_model(model, X, expected_output)\n",
    "\n",
    "colors = ['blue' if coord >= 0 else 'red' for coord in Y]\n",
    "plot_input = [[x,y] for x in range(6) for y in range(6)]\n",
    "plot_output_colors = ['blue' if predict[0] > predict[1] else 'red' for predict in [predict_rbfn(model, coord) for coord in plot_input]]\n",
    "plt.scatter([p[0] for p in X], [p[1] for p in X], c=colors, s=200)\n",
    "plt.scatter([p[0] for p in plot_input], [p[1] for p in plot_input], c=plot_output_colors)\n",
    "plt.show()"
   ]
  },
  {
   "cell_type": "markdown",
   "metadata": {
    "id": "7v8KFue-zmCv"
   },
   "source": [
    "### Linear Multiple :\n",
    "        Linear Model : OK\n",
    "        MLP (2, 1)   : OK"
   ]
  },
  {
   "cell_type": "code",
   "execution_count": 23,
   "metadata": {
    "id": "hZlnpb-qzmCw",
    "pycharm": {
     "is_executing": true
    }
   },
   "outputs": [
    {
     "data": {
      "image/png": "[encoded data removed]",
      "text/plain": [
       "<Figure size 432x288 with 1 Axes>"
      ]
     },
     "metadata": {
      "needs_background": "light"
     },
     "output_type": "display_data"
    },
    {
     "data": {
      "text/plain": [
       "<Figure size 432x288 with 0 Axes>"
      ]
     },
     "metadata": {},
     "output_type": "display_data"
    }
   ],
   "source": [
    "X = np.concatenate([np.random.random((50,2)) * 0.9 + np.array([1, 1]), np.random.random((50,2)) * 0.9 + np.array([2, 2])])\n",
    "Y = np.concatenate([np.ones((50, 1)), np.ones((50, 1)) * -1.0])\n",
    "plt.scatter(X[0:50, 0], X[0:50, 1], color='blue')\n",
    "plt.scatter(X[50:100,0], X[50:100,1], color='red')\n",
    "plt.show()\n",
    "plt.clf()"
   ]
  },
  {
   "cell_type": "markdown",
   "metadata": {},
   "source": [
    "### Linear model (simple)"
   ]
  },
  {
   "cell_type": "code",
   "execution_count": 22,
   "metadata": {
    "pycharm": {
     "is_executing": true
    }
   },
   "outputs": [
    {
     "name": "stdout",
     "output_type": "stream",
     "text": [
      "Before training: -1.0\n",
      "After training: -1.0\n"
     ]
    }
   ],
   "source": [
    "input_dim = len(X[0])\n",
    "\n",
    "p_model = create_linear_model(input_dim)\n",
    "test_before = predict_linear_model_classif(p_model, input_dim, [1.25, 1.25])\n",
    "\n",
    "print(\"Before training:\", test_before)\n",
    "\n",
    "train_linear_classification_model(p_model, input_dim, X, Y)\n",
    "\n",
    "\n",
    "test_after = predict_linear_model_classif(p_model, input_dim , [1.25, 1.25])\n",
    "\n",
    "print(\"After training:\",test_after)"
   ]
  },
  {
   "cell_type": "markdown",
   "metadata": {},
   "source": [
    "### Linear model (advanced)"
   ]
  },
  {
   "cell_type": "code",
   "execution_count": null,
   "metadata": {
    "pycharm": {
     "is_executing": true
    }
   },
   "outputs": [],
   "source": [
    "model = create_linear_model(input_dim)\n",
    "test_dataset = [[x1, x2] for x1 in np.arange(1, 3, 0.1) for x2 in np.arange(1, 3, 0.1)]\n",
    "colors = [\"blue\" if output >= 0 else \"red\" for output in Y]\n",
    "\n",
    "predicted_outputs = [predict_linear_model_classif(model, input_dim,  p)  for p in test_dataset]\n",
    "predicted_outputs_colors = ['blue' if label == 1 else 'red' for label in predicted_outputs]\n",
    "plt.scatter([p[0] for p in test_dataset], [p[1] for p in test_dataset], c=predicted_outputs_colors)\n",
    "plt.scatter([p[0] for p in X], [p[1] for p in X], c=colors, s=200)\n",
    "plt.show()\n",
    "\n",
    "flattened_dataset_inputs = []\n",
    "for p in X:\n",
    "    flattened_dataset_inputs.append(p[0])\n",
    "    flattened_dataset_inputs.append(p[1])\n",
    "    #print(flattened_dataset_inputs)\n",
    "\n",
    "train_linear_classification_model(model, input_dim, X, Y, epochs=100000)\n",
    "\n",
    "predicted_outputs = [predict_linear_model_classif(model,input_dim,  p)  for p in test_dataset]\n",
    "predicted_outputs_colors = ['blue' if label == 1 else 'red' for label in predicted_outputs]\n",
    "plt.scatter([p[0] for p in test_dataset], [p[1] for p in test_dataset], c=predicted_outputs_colors)\n",
    "plt.scatter([p[0] for p in X], [p[1] for p in X], c=colors, s=200)\n",
    "plt.show()\n",
    "\n",
    "test_after = predict_linear_model_classif(p_model, input_dim , [2.5, 2.5])\n",
    "\n",
    "print(\"Prediction:\", test_after)\n",
    "\n",
    "flattened_dataset_inputs = []\n",
    "for p in X:\n",
    "    flattened_dataset_inputs.append(p[0])\n",
    "    flattened_dataset_inputs.append(p[1])\n",
    "\n",
    "destroy_linear_model(model)"
   ]
  },
  {
   "cell_type": "markdown",
   "metadata": {},
   "source": [
    "### MLP (simple)"
   ]
  },
  {
   "cell_type": "code",
   "execution_count": null,
   "metadata": {
    "pycharm": {
     "is_executing": true
    }
   },
   "outputs": [],
   "source": [
    "input_dim = [len(X[0]), 1]\n",
    "\n",
    "p_model, _ = create_mlp_model(input_dim)\n",
    "test_before = predict_mlp_model_classification(p_model, [1.25, 1.25])\n",
    "\n",
    "print(\"Before training:\", test_before)\n",
    "\n",
    "train_classification_stochastic_gradient_backpropagation_mlp_model(p_model, X, Y)\n",
    "\n",
    "test_after = predict_mlp_model_classification(p_model, [1.25, 1.25])\n",
    "\n",
    "print(\"After training:\", test_after)"
   ]
  },
  {
   "cell_type": "markdown",
   "metadata": {},
   "source": [
    "### MLP (advanced)"
   ]
  },
  {
   "cell_type": "code",
   "execution_count": null,
   "metadata": {
    "pycharm": {
     "is_executing": true
    }
   },
   "outputs": [],
   "source": [
    "model, _= create_mlp_model(input_dim)\n",
    "test_dataset = [[x1, x2] for x1 in np.arange(1, 3, 0.1) for x2 in np.arange(1, 3, 0.1)]\n",
    "colors = [\"blue\" if output >= 0 else \"red\" for output in Y]\n",
    "\n",
    "predicted_outputs = [predict_mlp_model_classification(model,  p)  for p in test_dataset]\n",
    "predicted_outputs_colors = ['blue' if label >= 0 else 'red' for label in predicted_outputs]\n",
    "plt.scatter([p[0] for p in test_dataset], [p[1] for p in test_dataset], c=predicted_outputs_colors)\n",
    "plt.scatter([p[0] for p in X], [p[1] for p in X], c=colors, s=200)\n",
    "plt.show()\n",
    "\n",
    "flattened_dataset_inputs = []\n",
    "for p in X:\n",
    "    flattened_dataset_inputs.append(p[0])\n",
    "    flattened_dataset_inputs.append(p[1])\n",
    "\n",
    "train_classification_stochastic_gradient_backpropagation_mlp_model(model, X, Y, epochs=100000)\n",
    "\n",
    "predicted_outputs = [predict_mlp_model_classification(model,  p)  for p in test_dataset]\n",
    "predicted_outputs_colors = ['blue' if label >= 0 else 'red' for label in predicted_outputs]\n",
    "plt.scatter([p[0] for p in test_dataset], [p[1] for p in test_dataset], c=predicted_outputs_colors)\n",
    "plt.scatter([p[0] for p in X], [p[1] for p in X], c=colors, s=200)\n",
    "plt.show()\n",
    "\n",
    "test_after = predict_mlp_model_classification(p_model , [1, 1])\n",
    "\n",
    "print(\"Prediction:\", test_after)\n",
    "\n",
    "flattened_dataset_inputs = []\n",
    "for p in X:\n",
    "    flattened_dataset_inputs.append(p[0])\n",
    "    flattened_dataset_inputs.append(p[1])\n",
    "\n",
    "destroy_mlp_model(model)"
   ]
  },
  {
   "cell_type": "markdown",
   "metadata": {},
   "source": [
    "### RBFN"
   ]
  },
  {
   "cell_type": "code",
   "execution_count": 27,
   "metadata": {
    "pycharm": {
     "is_executing": true,
     "name": "#%%\n"
    }
   },
   "outputs": [
    {
     "data": {
      "image/png": "[encoded data removed]",
      "text/plain": [
       "<Figure size 432x288 with 1 Axes>"
      ]
     },
     "metadata": {
      "needs_background": "light"
     },
     "output_type": "display_data"
    }
   ],
   "source": [
    "num_classes = 2\n",
    "k = 20\n",
    "input_dim = 2\n",
    "expected_output = [[1,0] if label >= 0 else [0,1] for label in Y]\n",
    "model = create_rbfn_model(input_dim, num_classes, k)\n",
    "train_rbfn_model(model, X, expected_output)\n",
    "\n",
    "colors = ['blue' if coord >= 0 else 'red' for coord in Y]\n",
    "plot_input = [[x/10,y/10] for x in range(51) for y in range(51)]\n",
    "plot_output_colors = ['blue' if predict[0] > predict[1] else 'red' for predict in [predict_rbfn(model, coord) for coord in plot_input]]\n",
    "plt.scatter([p[0] for p in X], [p[1] for p in X], c=colors, s=200)\n",
    "plt.scatter([p[0] for p in plot_input], [p[1] for p in plot_input], c=plot_output_colors)\n",
    "plt.show()"
   ]
  },
  {
   "cell_type": "markdown",
   "metadata": {
    "id": "gZlONmsp1T_W"
   },
   "source": [
    "### XOR :\n",
    "        Linear Model    : KO\n",
    "        MLP (2, 2, 1)   : OK"
   ]
  },
  {
   "cell_type": "code",
   "execution_count": 34,
   "metadata": {
    "id": "673wfC9U1T_W",
    "pycharm": {
     "is_executing": true
    }
   },
   "outputs": [],
   "source": [
    "X = np.array([[1, 0], [0, 1], [0, 0], [1, 1]])\n",
    "Y = np.array([1, 1, -1, -1])"
   ]
  },
  {
   "cell_type": "code",
   "execution_count": 35,
   "metadata": {
    "colab": {
     "base_uri": "https://localhost:8080/",
     "height": 283
    },
    "id": "uA3E-h801T_Y",
    "outputId": "9fc31c6d-e44c-447b-a7c0-a3fa7b0d778e",
    "pycharm": {
     "is_executing": true
    }
   },
   "outputs": [
    {
     "data": {
      "image/png": "[encoded data removed]",
      "text/plain": [
       "<Figure size 432x288 with 1 Axes>"
      ]
     },
     "metadata": {
      "needs_background": "light"
     },
     "output_type": "display_data"
    },
    {
     "data": {
      "text/plain": [
       "<Figure size 432x288 with 0 Axes>"
      ]
     },
     "metadata": {},
     "output_type": "display_data"
    }
   ],
   "source": [
    "plt.scatter(X[0:2, 0], X[0:2, 1], color='blue')\n",
    "plt.scatter(X[2:4,0], X[2:4,1], color='red')\n",
    "plt.show()\n",
    "plt.clf()"
   ]
  },
  {
   "cell_type": "markdown",
   "metadata": {},
   "source": [
    "### Linear model (simple)"
   ]
  },
  {
   "cell_type": "code",
   "execution_count": null,
   "metadata": {
    "pycharm": {
     "is_executing": true
    }
   },
   "outputs": [],
   "source": [
    "input_dim = len(X[0])\n",
    "\n",
    "p_model = create_linear_model(input_dim)\n",
    "test_before = predict_linear_model_classif(p_model, input_dim , [0, 0])\n",
    "\n",
    "print(\"Before training:\", test_before)\n",
    "\n",
    "train_linear_classification_model(p_model, input_dim, X, Y)\n",
    "\n",
    "\n",
    "test_after = predict_linear_model_classif(p_model, input_dim , [0, 0])\n",
    "\n",
    "print(\"After training:\",test_after)"
   ]
  },
  {
   "cell_type": "markdown",
   "metadata": {},
   "source": [
    "### Linear model (advanced)"
   ]
  },
  {
   "cell_type": "code",
   "execution_count": null,
   "metadata": {
    "pycharm": {
     "is_executing": true
    }
   },
   "outputs": [],
   "source": [
    "X = np.array([[0, 0], [1, 0], [0, 1], [1, 1]])\n",
    "Y = np.array([-1, 1, 1, -1])"
   ]
  },
  {
   "cell_type": "code",
   "execution_count": null,
   "metadata": {
    "pycharm": {
     "is_executing": true
    }
   },
   "outputs": [],
   "source": [
    "input_dim = len(X[0])\n",
    "\n",
    "model_top = create_linear_model(input_dim)\n",
    "model_bottom = create_linear_model(input_dim)\n",
    "\n",
    "\n",
    "test_dataset = [[x1, x2] for x1 in np.arange(-1, 2, 0.1) for x2 in np.arange(-1, 2, 0.1)]\n",
    "colors = [\"blue\" if output >= 0 else \"red\" for output in Y]\n",
    "\n",
    "predicted_outputs_top = [predict_linear_model_classif(model_top, input_dim,  p)  for p in test_dataset]\n",
    "predicted_outputs_bottom = [predict_linear_model_classif(model_bottom, input_dim,  p)  for p in test_dataset]\n",
    "\n",
    "predicted_outputs_colors = ['blue' if top == 1 and bottom == 1 else 'red' for (top, bottom) in zip(predicted_outputs_top, predicted_outputs_bottom)]\n",
    "\n",
    "plt.scatter([p[0] for p in test_dataset], [p[1] for p in test_dataset], c=predicted_outputs_colors)\n",
    "plt.scatter([p[0] for p in X], [p[1] for p in X], c=colors, s=200)\n",
    "plt.show()\n",
    "\n",
    "train_linear_classification_model(model_top, input_dim, X[:-1], Y[:-1], alpha=0.01, epochs=100000)\n",
    "train_linear_classification_model(model_bottom, input_dim, X[1:], Y[1:], alpha=0.01, epochs=100000)\n",
    "\n",
    "\n",
    "predicted_outputs_top = [predict_linear_model_classif(model_top, input_dim,  p)  for p in test_dataset]\n",
    "predicted_outputs_bottom = [predict_linear_model_classif(model_bottom, input_dim,  p)  for p in test_dataset]\n",
    "\n",
    "predicted_outputs_colors = ['blue' if top == 1 and bottom == 1 else 'red' for (top, bottom) in zip(predicted_outputs_top, predicted_outputs_bottom)]\n",
    "\n",
    "plt.scatter([p[0] for p in test_dataset], [p[1] for p in test_dataset], c=predicted_outputs_colors)\n",
    "plt.scatter([p[0] for p in X], [p[1] for p in X], c=colors, s=200)\n",
    "plt.show()\n",
    "\n",
    "destroy_linear_model(model_top)\n",
    "destroy_linear_model(model_bottom)"
   ]
  },
  {
   "cell_type": "markdown",
   "metadata": {},
   "source": [
    "### MLP (simple)"
   ]
  },
  {
   "cell_type": "code",
   "execution_count": null,
   "metadata": {
    "pycharm": {
     "is_executing": true
    }
   },
   "outputs": [],
   "source": [
    "input_dim = [len(X[0]), len(X[0]), 1]\n",
    "\n",
    "p_model, _= create_mlp_model(input_dim)\n",
    "test_before = predict_mlp_model_classification(p_model, [1, 1])\n",
    "\n",
    "print(\"Before training:\", test_before)\n",
    "\n",
    "train_classification_stochastic_gradient_backpropagation_mlp_model(p_model, X, Y)\n",
    "\n",
    "test_after = predict_mlp_model_classification(p_model, [1, 1])\n",
    "\n",
    "print(\"After training:\", test_after)"
   ]
  },
  {
   "cell_type": "markdown",
   "metadata": {},
   "source": [
    "### MLP (advanced)"
   ]
  },
  {
   "cell_type": "code",
   "execution_count": null,
   "metadata": {
    "pycharm": {
     "is_executing": true
    }
   },
   "outputs": [],
   "source": [
    "model, _ = create_mlp_model(input_dim)\n",
    "test_dataset = [[x1, x2] for x1 in np.arange(-1, 2, 0.1) for x2 in np.arange(-1, 2, 0.1)]\n",
    "colors = [\"blue\" if output >= 0 else \"red\" for output in Y]\n",
    "\n",
    "predicted_outputs = [predict_mlp_model_classification(model,  p)  for p in test_dataset]\n",
    "predicted_outputs_colors = ['blue' if label >= 0 else 'red' for label in predicted_outputs]\n",
    "plt.scatter([p[0] for p in test_dataset], [p[1] for p in test_dataset], c=predicted_outputs_colors)\n",
    "plt.scatter([p[0] for p in X], [p[1] for p in X], c=colors, s=200)\n",
    "plt.show()\n",
    "\n",
    "flattened_dataset_inputs = []\n",
    "for p in X:\n",
    "    flattened_dataset_inputs.append(p[0])\n",
    "    flattened_dataset_inputs.append(p[1])\n",
    "\n",
    "train_classification_stochastic_gradient_backpropagation_mlp_model(model, X, Y, epochs=100000)\n",
    "\n",
    "predicted_outputs = [predict_mlp_model_classification(model,  p)  for p in test_dataset]\n",
    "predicted_outputs_colors = ['blue' if label >= 0 else 'red' for label in predicted_outputs]\n",
    "plt.scatter([p[0] for p in test_dataset], [p[1] for p in test_dataset], c=predicted_outputs_colors)\n",
    "plt.scatter([p[0] for p in X], [p[1] for p in X], c=colors, s=200)\n",
    "plt.show()\n",
    "\n",
    "test_after = predict_mlp_model_classification(p_model, [1, 1])\n",
    "\n",
    "destroy_mlp_model(model)"
   ]
  },
  {
   "cell_type": "markdown",
   "metadata": {
    "pycharm": {
     "name": "#%% md\n"
    }
   },
   "source": [
    "### RBFN\n",
    "notre modéle n'arrive pas a gere le XOR"
   ]
  },
  {
   "cell_type": "code",
   "execution_count": 36,
   "metadata": {
    "pycharm": {
     "is_executing": true,
     "name": "#%%\n"
    }
   },
   "outputs": [
    {
     "data": {
      "image/png": "[encoded data removed]",
      "text/plain": [
       "<Figure size 432x288 with 1 Axes>"
      ]
     },
     "metadata": {
      "needs_background": "light"
     },
     "output_type": "display_data"
    }
   ],
   "source": [
    "num_classes = 2\n",
    "k = 4\n",
    "input_dim = 2\n",
    "expected_output = [[1,0] if label >= 0 else [0,1] for label in Y]\n",
    "modif_input = [[coord[0],coord[1]] for coord in X]\n",
    "model = create_rbfn_model(input_dim, num_classes, k)\n",
    "train_rbfn_model(model, X, expected_output, naif=True)\n",
    "\n",
    "colors = ['blue' if coord >= 0 else 'red' for coord in Y]\n",
    "plot_input = [[x/5,y/5] for x in range(6) for y in range(6)]\n",
    "plot_output_colors = ['blue' if predict[0] > predict[1] else 'red' for predict in [predict_rbfn(model, coord) for coord in plot_input]]\n",
    "plt.scatter([p[0] for p in X], [p[1] for p in X], c=colors, s=200)\n",
    "plt.scatter([p[0] for p in plot_input], [p[1] for p in plot_input], c=plot_output_colors)\n",
    "plt.show()"
   ]
  },
  {
   "cell_type": "markdown",
   "metadata": {
    "id": "5qxkXVo02MpM"
   },
   "source": [
    "### Cross :\n",
    "        Linear Model    : KO\n",
    "        MLP (2, 4, 1)   : OK"
   ]
  },
  {
   "cell_type": "code",
   "execution_count": 37,
   "metadata": {
    "id": "7kkrrfnX2MpM",
    "pycharm": {
     "is_executing": true
    }
   },
   "outputs": [],
   "source": [
    "X = np.random.random((500, 2)) * 2.0 - 1.0\n",
    "Y = np.array([1 if abs(p[0]) <= 0.3 or abs(p[1]) <= 0.3 else -1 for p in X])"
   ]
  },
  {
   "cell_type": "code",
   "execution_count": 38,
   "metadata": {
    "colab": {
     "base_uri": "https://localhost:8080/",
     "height": 287
    },
    "id": "zVBAE2fY2MpO",
    "outputId": "46b434a6-2fd8-492e-c080-14b0d0028968",
    "pycharm": {
     "is_executing": true
    }
   },
   "outputs": [
    {
     "data": {
      "image/png": "[encoded data removed]",
      "text/plain": [
       "<Figure size 432x288 with 1 Axes>"
      ]
     },
     "metadata": {
      "needs_background": "light"
     },
     "output_type": "display_data"
    },
    {
     "data": {
      "text/plain": [
       "<Figure size 432x288 with 0 Axes>"
      ]
     },
     "metadata": {},
     "output_type": "display_data"
    }
   ],
   "source": [
    "plt.scatter(np.array(list(map(lambda elt : elt[1], filter(lambda c: Y[c[0]] == 1, enumerate(X)))))[:,0], np.array(list(map(lambda elt : elt[1], filter(lambda c: Y[c[0]] == 1, enumerate(X)))))[:,1], color='blue')\n",
    "plt.scatter(np.array(list(map(lambda elt : elt[1], filter(lambda c: Y[c[0]] == -1, enumerate(X)))))[:,0], np.array(list(map(lambda elt : elt[1], filter(lambda c: Y[c[0]] == -1, enumerate(X)))))[:,1], color='red')\n",
    "plt.show()\n",
    "plt.clf()"
   ]
  },
  {
   "cell_type": "markdown",
   "metadata": {},
   "source": [
    "### Linear model (simple)"
   ]
  },
  {
   "cell_type": "code",
   "execution_count": null,
   "metadata": {
    "pycharm": {
     "is_executing": true
    }
   },
   "outputs": [],
   "source": [
    "input_dim = len(X[0])\n",
    "\n",
    "p_model = create_linear_model(input_dim)\n",
    "test_before = predict_linear_model_classif(p_model, input_dim , [0, 0])\n",
    "\n",
    "print(\"Before training:\", test_before)\n",
    "\n",
    "train_linear_classification_model(p_model, input_dim, X, Y)\n",
    "\n",
    "\n",
    "test_after = predict_linear_model_classif(p_model, input_dim , [0, 0])\n",
    "\n",
    "print(\"After training:\",test_after)"
   ]
  },
  {
   "cell_type": "markdown",
   "metadata": {},
   "source": [
    "### Linear model (advanced)"
   ]
  },
  {
   "cell_type": "code",
   "execution_count": null,
   "metadata": {
    "pycharm": {
     "is_executing": true
    }
   },
   "outputs": [],
   "source": [
    "input_dim = len(X[0])\n",
    "\n",
    "model_vl = create_linear_model(input_dim)\n",
    "model_vr = create_linear_model(input_dim)\n",
    "model_ht = create_linear_model(input_dim)\n",
    "model_hb = create_linear_model(input_dim)\n",
    "\n",
    "\n",
    "test_dataset = [[x1, x2] for x1 in np.arange(-2, 2, 0.1) for x2 in np.arange(-2, 2, 0.1)]\n",
    "colors = [\"blue\" if output >= 0 else \"red\" for output in Y]\n",
    "\n",
    "predicted_outputs_vl = [predict_linear_model_classif(model_vl, input_dim,  p)  for p in test_dataset]\n",
    "predicted_outputs_vr = [predict_linear_model_classif(model_vr, input_dim,  p)  for p in test_dataset]\n",
    "predicted_outputs_ht = [predict_linear_model_classif(model_ht, input_dim,  p)  for p in test_dataset]\n",
    "predicted_outputs_hb = [predict_linear_model_classif(model_hb, input_dim,  p)  for p in test_dataset]\n",
    "\n",
    "predicted_outputs_colors = ['blue' if (vl == 1 and vr == 1) or (ht == 1 and hb == 1) else 'red' for (vl, vr, ht, hb) in zip(predicted_outputs_vl, predicted_outputs_vr, predicted_outputs_ht, predicted_outputs_hb)]\n",
    "\n",
    "plt.scatter([p[0] for p in test_dataset], [p[1] for p in test_dataset], c=predicted_outputs_colors)\n",
    "plt.scatter([p[0] for p in X], [p[1] for p in X], c=colors, s=200)\n",
    "plt.show()\n",
    "\n",
    "\n",
    "ht = np.array([[x[0],x[1],n] for n,x in enumerate(X) if (x[1] > -0.3 and (x[0] > 0.3 or x[0] < -0.3) ) ])\n",
    "c = [\"blue\" if Y[int(n)] == 1 else \"red\" for n in ht[:, 2]]\n",
    "plt.scatter(ht[:, 0], ht[:, 1], c=c)\n",
    "plt.axis([-1, 1, -1, 1])\n",
    "plt.title(\"Horizontal top\")\n",
    "plt.show()\n",
    "\n",
    "vr = np.array([[x[0],x[1], int(n)] for n,x in enumerate(X) if x[0] > -0.3 and (x[1] > 0.3 or x[1] < -0.3) ])\n",
    "c = [\"blue\" if Y[int(n)] == 1 else \"red\" for n in vr[:, 2]]\n",
    "plt.scatter(vr[:, 0], vr[:, 1], c=c)\n",
    "plt.axis([-1, 1, -1, 1])\n",
    "plt.title(\"Vertical right\")\n",
    "plt.show()\n",
    "\n",
    "vl = np.array([[x[0],x[1],int(n)] for n,x in enumerate(X) if (x[0] < 0.3 and (x[1] < -0.3 or x[1] > 0.3))])\n",
    "c = [\"blue\" if Y[int(n)] == 1 else \"red\" for n in vl[:, 2]]\n",
    "plt.scatter(vl[:, 0], vl[:, 1], c=c)\n",
    "plt.axis([-1, 1, -1, 1])\n",
    "plt.title(\"Vertical left\")\n",
    "plt.show()\n",
    "\n",
    "hb = np.array([[x[0],x[1],int(n)] for n,x in enumerate(X) if (x[1] < 0.3 and (x[0] < -0.3 or x[0] > 0.3))])\n",
    "c = [\"blue\" if Y[int(n)] == 1 else \"red\" for n in hb[:, 2]]\n",
    "plt.scatter(hb[:, 0], hb[:, 1], c=c)\n",
    "plt.axis([-1, 1, -1, 1])\n",
    "plt.title(\"Horizontal bottom\")\n",
    "plt.show()\n",
    "\n",
    "\n",
    "# On était bloqué la wola\n",
    "train_linear_classification_model(model_vl, input_dim, vl[:, :-1], Y[vl[:,-1].astype(int)], epochs=100000)\n",
    "train_linear_classification_model(model_vr, input_dim, vr[:, :-1], Y[vr[:,-1].astype(int)], epochs=100000)\n",
    "train_linear_classification_model(model_ht, input_dim, ht[:, :-1], Y[ht[:,-1].astype(int)], epochs=100000)\n",
    "train_linear_classification_model(model_hb, input_dim, hb[:, :-1], Y[hb[:,-1].astype(int)], epochs=100000)\n",
    "\n",
    "\n",
    "predicted_outputs_vl = [predict_linear_model_classif(model_vl, input_dim,  p)  for p in test_dataset]\n",
    "predicted_outputs_vr = [predict_linear_model_classif(model_vr, input_dim,  p)  for p in test_dataset]\n",
    "predicted_outputs_ht = [predict_linear_model_classif(model_ht, input_dim,  p)  for p in test_dataset]\n",
    "predicted_outputs_hb = [predict_linear_model_classif(model_hb, input_dim,  p)  for p in test_dataset]\n",
    "\n",
    "predicted_outputs_colors = ['blue' if (vl == 1 and vr == 1) or (ht == 1 and hb == 1) else 'red' for (vl, vr, ht, hb) in zip(predicted_outputs_vl, predicted_outputs_vr, predicted_outputs_ht, predicted_outputs_hb)]\n",
    "\n",
    "plt.scatter([p[0] for p in test_dataset], [p[1] for p in test_dataset], c=predicted_outputs_colors)\n",
    "plt.scatter([p[0] for p in X], [p[1] for p in X], c=colors, s=200)\n",
    "plt.show()\n",
    "\n",
    "\n",
    "\n",
    "destroy_linear_model(model_vl)\n",
    "destroy_linear_model(model_vr)\n",
    "destroy_linear_model(model_ht)\n",
    "destroy_linear_model(model_hb)"
   ]
  },
  {
   "cell_type": "markdown",
   "metadata": {},
   "source": [
    "### MLP (simple)"
   ]
  },
  {
   "cell_type": "code",
   "execution_count": null,
   "metadata": {
    "pycharm": {
     "is_executing": true
    }
   },
   "outputs": [],
   "source": [
    "input_dim = [len(X[0]), len(X[0])*2, 1]\n",
    "\n",
    "p_model, _ = create_mlp_model(input_dim)\n",
    "test_before = predict_mlp_model_classification(p_model, [0, 0])\n",
    "\n",
    "print(\"Before training:\", test_before)\n",
    "\n",
    "train_classification_stochastic_gradient_backpropagation_mlp_model(p_model, X, Y)\n",
    "\n",
    "test_after = predict_mlp_model_classification(p_model, [0, 0])\n",
    "\n",
    "print(\"After training:\", test_after)"
   ]
  },
  {
   "cell_type": "markdown",
   "metadata": {},
   "source": [
    "### MLP (advanced)"
   ]
  },
  {
   "cell_type": "code",
   "execution_count": null,
   "metadata": {
    "pycharm": {
     "is_executing": true
    }
   },
   "outputs": [],
   "source": [
    "model, _ = create_mlp_model(input_dim)\n",
    "test_dataset = [[x1, x2] for x1 in np.arange(-2, 2, 0.1) for x2 in np.arange(-2, 2, 0.1)]\n",
    "colors = [\"blue\" if output >= 0 else \"red\" for output in Y]\n",
    "\n",
    "predicted_outputs = [predict_mlp_model_classification(model,  p)  for p in test_dataset]\n",
    "predicted_outputs_colors = ['blue' if label >= 0 else 'red' for label in predicted_outputs]\n",
    "plt.scatter([p[0] for p in test_dataset], [p[1] for p in test_dataset], c=predicted_outputs_colors)\n",
    "plt.scatter([p[0] for p in X], [p[1] for p in X], c=colors, s=200)\n",
    "plt.show()\n",
    "\n",
    "flattened_dataset_inputs = []\n",
    "for p in X:\n",
    "    flattened_dataset_inputs.append(p[0])\n",
    "    flattened_dataset_inputs.append(p[1])\n",
    "\n",
    "train_classification_stochastic_gradient_backpropagation_mlp_model(model, X, Y, alpha=0.01, epochs=200000)\n",
    "\n",
    "predicted_outputs = [predict_mlp_model_classification(model,  p)  for p in test_dataset]\n",
    "predicted_outputs_colors = ['blue' if label >= 0 else 'red' for label in predicted_outputs]\n",
    "plt.scatter([p[0] for p in test_dataset], [p[1] for p in test_dataset], c=predicted_outputs_colors)\n",
    "plt.scatter([p[0] for p in X], [p[1] for p in X], c=colors, s=200)\n",
    "plt.show()\n",
    "\n",
    "test_after = predict_mlp_model_classification(p_model , [1, 1])\n",
    "\n",
    "destroy_mlp_model(model)"
   ]
  },
  {
   "cell_type": "markdown",
   "metadata": {},
   "source": [
    "### RBFN :\n",
    "Comme le XOR les points son trop proche"
   ]
  },
  {
   "cell_type": "code",
   "execution_count": 44,
   "metadata": {
    "pycharm": {
     "is_executing": true,
     "name": "#%%\n"
    }
   },
   "outputs": [
    {
     "data": {
      "image/png": "[encoded data removed]",
      "text/plain": [
       "<Figure size 432x288 with 1 Axes>"
      ]
     },
     "metadata": {
      "needs_background": "light"
     },
     "output_type": "display_data"
    }
   ],
   "source": [
    "num_classes = 2\n",
    "k = 30\n",
    "input_dim = 2\n",
    "expected_output = [[1,0] if coord >= 0 else [0,1] for coord in Y]\n",
    "modif_input = [[coord[0],coord[1]] for coord in X]\n",
    "model = create_rbfn_model(input_dim, num_classes, k)\n",
    "train_rbfn_model(model, modif_input, expected_output)\n",
    "\n",
    "colors = ['blue' if coord >= 0 else 'red' for coord in Y]\n",
    "plot_input = np.random.random((500, 2)) * 2.0 - 1.0\n",
    "plot_output_colors = ['blue' if predict[0] > predict[1] else 'red' for predict in [predict_rbfn(model, coord) for coord in plot_input]]\n",
    "#plt.scatter([p[0] for p in X], [p[1] for p in X], c=colors, s=200)\n",
    "plt.scatter([p[0] for p in plot_input], [p[1] for p in plot_input], c=plot_output_colors)\n",
    "plt.show()"
   ]
  },
  {
   "cell_type": "markdown",
   "metadata": {
    "id": "v4hhnYge928d"
   },
   "source": [
    "### Multi Linear 3 classes :\n",
    "        Linear Model x3 : OK\n",
    "        MLP (2, 3)      : OK"
   ]
  },
  {
   "cell_type": "code",
   "execution_count": 4,
   "metadata": {
    "id": "IvhvqkDw928q",
    "pycharm": {
     "is_executing": true
    }
   },
   "outputs": [],
   "source": [
    "X = np.random.random((500, 2)) * 2.0 - 1.0\n",
    "Y = np.array([[1, 0, 0] if -p[0] - p[1] - 0.5 > 0 and p[1] < 0 and p[0] - p[1] - 0.5 < 0 else # bleu\n",
    "              [0, 1, 0] if -p[0] - p[1] - 0.5 < 0 and p[1] > 0 and p[0] - p[1] - 0.5 < 0 else # rouge\n",
    "              [0, 0, 1] if -p[0] - p[1] - 0.5 < 0 and p[1] < 0 and p[0] - p[1] - 0.5 > 0 else # vert\n",
    "              [0, 0, 0]for p in X])"
   ]
  },
  {
   "cell_type": "code",
   "execution_count": 5,
   "metadata": {
    "colab": {
     "base_uri": "https://localhost:8080/",
     "height": 287
    },
    "id": "4aqzcUlJ928s",
    "outputId": "71df307b-e9c9-4a2d-a942-b75e3a141e46",
    "pycharm": {
     "is_executing": true
    }
   },
   "outputs": [
    {
     "data": {
      "image/png": "[encoded data removed]",
      "text/plain": [
       "<Figure size 432x288 with 1 Axes>"
      ]
     },
     "metadata": {
      "needs_background": "light"
     },
     "output_type": "display_data"
    },
    {
     "data": {
      "text/plain": [
       "<Figure size 432x288 with 0 Axes>"
      ]
     },
     "metadata": {},
     "output_type": "display_data"
    }
   ],
   "source": [
    "plt.scatter(np.array(list(map(lambda elt : elt[1], filter(lambda c: Y[c[0]][0] == 1, enumerate(X)))))[:,0], np.array(list(map(lambda elt : elt[1], filter(lambda c: Y[c[0]][0] == 1, enumerate(X)))))[:,1], color='blue')\n",
    "plt.scatter(np.array(list(map(lambda elt : elt[1], filter(lambda c: Y[c[0]][1] == 1, enumerate(X)))))[:,0], np.array(list(map(lambda elt : elt[1], filter(lambda c: Y[c[0]][1] == 1, enumerate(X)))))[:,1], color='red')\n",
    "plt.scatter(np.array(list(map(lambda elt : elt[1], filter(lambda c: Y[c[0]][2] == 1, enumerate(X)))))[:,0], np.array(list(map(lambda elt : elt[1], filter(lambda c: Y[c[0]][2] == 1, enumerate(X)))))[:,1], color='green')\n",
    "plt.show()\n",
    "plt.clf()"
   ]
  },
  {
   "cell_type": "markdown",
   "metadata": {},
   "source": [
    "### Linear model (simple)"
   ]
  },
  {
   "cell_type": "code",
   "execution_count": null,
   "metadata": {
    "pycharm": {
     "is_executing": true
    }
   },
   "outputs": [],
   "source": [
    "input_dim = 2\n",
    "\n",
    "p_model = create_linear_model(input_dim)\n",
    "test_before = predict_linear_model_classif(p_model, input_dim, [-0.75, -0.50])\n",
    "\n",
    "print(\"Before training:\", test_before)\n",
    "\n",
    "flattened_Y = Y[-1].flatten()\n",
    "\n",
    "train_linear_classification_model(p_model, input_dim, X, flattened_Y)\n",
    "\n",
    "test_after = predict_linear_model_classif(p_model, input_dim, [-0.75, -0.50])\n",
    "\n",
    "print(\"After training:\",test_after)"
   ]
  },
  {
   "cell_type": "markdown",
   "metadata": {},
   "source": [
    "### Linear model (advanced)"
   ]
  },
  {
   "cell_type": "code",
   "execution_count": null,
   "metadata": {
    "pycharm": {
     "is_executing": true
    }
   },
   "outputs": [],
   "source": [
    "input_dim = len(X[0])\n",
    "\n",
    "\n",
    "model_dr = create_linear_model(input_dim)\n",
    "model_dl = create_linear_model(input_dim)\n",
    "model_h = create_linear_model(input_dim)\n",
    "\n",
    "test_dataset = [[x1, x2] for x1 in np.arange(-1.5, 1.5, 0.1) for x2 in np.arange(-1.5, 1.5, 0.1)]\n",
    "colors = [\"blue\" if output[0] == 1 else (\"red\" if output[1] == 1 else (\"green\" if output[2] == 1 else \"black\")) for output in Y]\n",
    "\n",
    "dr = np.array([1 if y[2] == 1 else -1 for y in Y])\n",
    "h = np.array([1 if y[1] == 1 else -1 for y in Y])\n",
    "dl = np.array([1 if y[0] == 1 else -1 for y in Y])\n",
    "\n",
    "predicted_outputs_dr = [predict_linear_model_classif(model_dr, input_dim,  p)  for p in test_dataset]\n",
    "predicted_outputs_dl = [predict_linear_model_classif(model_dl, input_dim,  p)  for p in test_dataset]\n",
    "predicted_outputs_h = [predict_linear_model_classif(model_h, input_dim,  p)  for p in test_dataset]\n",
    "\n",
    "\n",
    "predicted_outputs_colors = ['green' if (dr == 1 and dl == -1 and h == -1) else (\"blue\" if (dl == 1 and dr == -1 and h == -1) else (\"red\" if (h == 1 and dr == -1 and dl == -1) else \"black\")) for (dr, dl, h) in zip(predicted_outputs_dr, predicted_outputs_dl, predicted_outputs_h)]\n",
    "plt.scatter([p[0] for p in test_dataset], [p[1] for p in test_dataset], c=predicted_outputs_colors)\n",
    "plt.scatter([p[0] for p in X], [p[1] for p in X], c=colors, s=40)\n",
    "plt.show()\n",
    "\n",
    "\n",
    "flattened_dataset_outputs = []\n",
    "for p in Y:\n",
    "    flattened_dataset_outputs.append(p[0])\n",
    "    flattened_dataset_outputs.append(p[1])\n",
    "    flattened_dataset_outputs.append(p[2])\n",
    "    \n",
    "\n",
    "train_linear_classification_model(model_dl, input_dim, X, dl, alpha=0.01, epochs=100000)\n",
    "train_linear_classification_model(model_dr, input_dim, X, dr, alpha=0.01, epochs=100000)\n",
    "train_linear_classification_model(model_h, input_dim, X, h, alpha=0.01, epochs=100000)\n",
    "\n",
    "\n",
    "predicted_outputs_dr = [predict_linear_model_classif(model_dr, input_dim,  p)  for p in test_dataset]\n",
    "predicted_outputs_dl = [predict_linear_model_classif(model_dl, input_dim,  p)  for p in test_dataset]\n",
    "predicted_outputs_h = [predict_linear_model_classif(model_h, input_dim,  p)  for p in test_dataset]\n",
    "\n",
    "predicted_outputs_colors = ['green' if (dr == 1 and dl == -1 and h == -1) else (\"blue\" if (dl == 1 and dr == -1 and h == -1) else (\"red\" if (h == 1 and dr == -1 and dl == -1) else \"black\")) for (dr, dl, h) in zip(predicted_outputs_dr, predicted_outputs_dl, predicted_outputs_h)]\n",
    "plt.scatter([p[0] for p in test_dataset], [p[1] for p in test_dataset], c=predicted_outputs_colors)\n",
    "plt.scatter([p[0] for p in X], [p[1] for p in X], c=colors, s=40)\n",
    "plt.show()"
   ]
  },
  {
   "cell_type": "markdown",
   "metadata": {},
   "source": [
    "### MLP (simple)"
   ]
  },
  {
   "cell_type": "code",
   "execution_count": null,
   "metadata": {
    "pycharm": {
     "is_executing": true
    }
   },
   "outputs": [],
   "source": [
    "input_dim = [len(X[0]), 3]\n",
    "\n",
    "p_model, len_output_layer = create_mlp_model(input_dim)\n",
    "test_before = predict_mlp_model_classification(p_model, np.array([-0.75, -0.50]), len_output_layer)\n",
    "\n",
    "print(\"Before training:\", test_before)\n",
    "\n",
    "train_classification_stochastic_gradient_backpropagation_mlp_model(p_model, X, Y.flatten())\n",
    "\n",
    "test_after = predict_mlp_model_classification(p_model, np.array([-0.75, -0.50]), len_output_layer)\n",
    "\n",
    "print(\"After training:\", test_after)"
   ]
  },
  {
   "cell_type": "markdown",
   "metadata": {},
   "source": [
    "### MLP (advanced)"
   ]
  },
  {
   "cell_type": "code",
   "execution_count": null,
   "metadata": {
    "pycharm": {
     "is_executing": true
    }
   },
   "outputs": [],
   "source": [
    "input_dim = [len(X[0]), 3]\n",
    "\n",
    "model, len_output_layer = create_mlp_model(input_dim)\n",
    "test_dataset = [[x1, x2] for x1 in np.arange(-1.5, 1.6, 0.2) for x2 in np.arange(-1.5, 1.6, 0.2)]\n",
    "colors = [\"blue\" if np.argmax(output) == 0 else (\"red\" if np.argmax(output) == 1 else \"green\") for output in Y]\n",
    "\n",
    "predicted_outputs = [predict_mlp_model_classification(model, p, len_output_layer)  for p in test_dataset]\n",
    "predicted_outputs_colors = [\"blue\" if np.argmax(output) == 0 else (\"red\" if np.argmax(output) == 1 else \"green\") for output in predicted_outputs]\n",
    "plt.scatter([p[0] for p in test_dataset], [p[1] for p in test_dataset], c=predicted_outputs_colors)\n",
    "plt.scatter([p[0] for p in X], [p[1] for p in X], c=colors, s=50)\n",
    "plt.show()\n",
    "\n",
    "train_classification_stochastic_gradient_backpropagation_mlp_model(model, X, Y.flatten())\n",
    "\n",
    "predicted_outputs = [predict_mlp_model_classification(model, p, len_output_layer)  for p in test_dataset]\n",
    "predicted_outputs_colors = [\"blue\" if np.argmax(output) == 0 else (\"red\" if np.argmax(output) == 1 else \"green\") for output in predicted_outputs]\n",
    "plt.scatter([p[0] for p in test_dataset], [p[1] for p in test_dataset], c=predicted_outputs_colors)\n",
    "plt.scatter([p[0] for p in X], [p[1] for p in X], c=colors, s=50)\n",
    "plt.show()\n",
    "\n",
    "flattened_dataset_inputs = []\n",
    "for p in X:\n",
    "    flattened_dataset_inputs.append(p[0])\n",
    "    flattened_dataset_inputs.append(p[1])\n",
    "\n",
    "destroy_mlp_model(model)"
   ]
  },
  {
   "cell_type": "markdown",
   "metadata": {},
   "source": [
    "### RBF"
   ]
  },
  {
   "cell_type": "code",
   "execution_count": 10,
   "metadata": {},
   "outputs": [
    {
     "name": "stdout",
     "output_type": "stream",
     "text": [
      "[0.0033293643124396866, 0.015970613313652238, 0.9755907823862665] [1 0 0]\n"
     ]
    },
    {
     "data": {
      "image/png": "[encoded data removed]",
      "text/plain": [
       "<Figure size 432x288 with 1 Axes>"
      ]
     },
     "metadata": {
      "needs_background": "light"
     },
     "output_type": "display_data"
    }
   ],
   "source": [
    "num_classes = 3\n",
    "k = 30\n",
    "input_dim = 2\n",
    "expected_output = Y\n",
    "modif_input = [[coord[0],coord[1]] for coord in X]\n",
    "model = create_rbfn_model(input_dim, num_classes, k)\n",
    "train_rbfn_model(model, modif_input, expected_output)\n",
    "\n",
    "#colors = ['blue' if coord >= 0 else 'red' for coord in Y]\n",
    "plot_input = np.random.random((500, 2)) * 2.0 - 1.0\n",
    "plot_output_colors = ['blue' if predict[0] > predict[1] and predict[0] > predict[2] else ('red' if predict[1] > predict[2] else 'green') for predict in [predict_rbfn(model, coord, 3) for coord in plot_input]]\n",
    "#plt.scatter([p[0] for p in X], [p[1] for p in X], c=colors, s=200)\n",
    "plt.scatter([p[0] for p in plot_input], [p[1] for p in plot_input], c=plot_output_colors)\n",
    "plt.show()"
   ]
  },
  {
   "cell_type": "markdown",
   "metadata": {
    "id": "uKFBx2m066i2"
   },
   "source": [
    "### Multi Cross :\n",
    "        Linear Model x3 : KO\n",
    "        MLP (2, ?, ?, 3): OK"
   ]
  },
  {
   "cell_type": "code",
   "execution_count": null,
   "metadata": {
    "id": "0ZE8OW-K66i5",
    "pycharm": {
     "is_executing": true
    }
   },
   "outputs": [],
   "source": [
    "X = np.random.random((1000, 2)) * 2.0 - 1.0\n",
    "Y = np.array([[1, 0, 0] if abs(p[0] % 0.5) <= 0.25 and abs(p[1] % 0.5) > 0.25 else [0, 1, 0] if abs(p[0] % 0.5) > 0.25 and abs(p[1] % 0.5) <= 0.25 else [0, 0, 1] for p in X])"
   ]
  },
  {
   "cell_type": "code",
   "execution_count": null,
   "metadata": {
    "colab": {
     "base_uri": "https://localhost:8080/",
     "height": 287
    },
    "id": "55U95UMS66i6",
    "outputId": "f14df72f-c2c1-4498-9668-f91f29594b06",
    "pycharm": {
     "is_executing": true
    }
   },
   "outputs": [],
   "source": [
    "plt.scatter(np.array(list(map(lambda elt : elt[1], filter(lambda c: Y[c[0]][0] == 1, enumerate(X)))))[:,0], np.array(list(map(lambda elt : elt[1], filter(lambda c: Y[c[0]][0] == 1, enumerate(X)))))[:,1], color='blue')\n",
    "plt.scatter(np.array(list(map(lambda elt : elt[1], filter(lambda c: Y[c[0]][1] == 1, enumerate(X)))))[:,0], np.array(list(map(lambda elt : elt[1], filter(lambda c: Y[c[0]][1] == 1, enumerate(X)))))[:,1], color='red')\n",
    "plt.scatter(np.array(list(map(lambda elt : elt[1], filter(lambda c: Y[c[0]][2] == 1, enumerate(X)))))[:,0], np.array(list(map(lambda elt : elt[1], filter(lambda c: Y[c[0]][2] == 1, enumerate(X)))))[:,1], color='green')\n",
    "plt.show()\n",
    "plt.clf()"
   ]
  },
  {
   "cell_type": "markdown",
   "metadata": {},
   "source": [
    "### Linear model (simple)"
   ]
  },
  {
   "cell_type": "code",
   "execution_count": null,
   "metadata": {
    "pycharm": {
     "is_executing": true
    }
   },
   "outputs": [],
   "source": [
    "input_dim = len(X[0])\n",
    "\n",
    "p_model = create_linear_model(input_dim)\n",
    "test_before = predict_linear_model_classif(p_model, input_dim , [2, 2])\n",
    "\n",
    "print(\"Before training:\", test_before)\n",
    "\n",
    "flattened_X = X.flatten()\n",
    "\n",
    "train_linear_classification_model(p_model, input_dim, flattened_X, Y)\n",
    "\n",
    "\n",
    "test_after = predict_linear_model_classif(p_model, input_dim , [2, 2])\n",
    "\n",
    "print(\"After training:\",test_after)"
   ]
  },
  {
   "cell_type": "markdown",
   "metadata": {},
   "source": [
    "### Linear model (advanced)"
   ]
  },
  {
   "cell_type": "code",
   "execution_count": null,
   "metadata": {
    "pycharm": {
     "is_executing": true
    }
   },
   "outputs": [],
   "source": [
    "model = create_linear_model(input_dim)\n",
    "test_dataset = [[x1, x2] for x1 in range(1, 2) for x2 in range(1, 2)]\n",
    "colors = [\"blue\" if output >= 0 else \"red\" for output in Y]\n",
    "\n",
    "predicted_outputs = [predict_linear_model_classif(model, input_dim,  p)  for p in test_dataset]\n",
    "predicted_outputs_colors = ['blue' if label == 1 else 'red' for label in predicted_outputs]\n",
    "plt.scatter([p[0] for p in test_dataset], [p[1] for p in test_dataset], c=predicted_outputs_colors)\n",
    "plt.scatter([p[0] for p in X], [p[1] for p in X], c=colors, s=200)\n",
    "plt.show()\n",
    "\n",
    "flattened_dataset_inputs = []\n",
    "for p in X:\n",
    "    flattened_dataset_inputs.append(p[0])\n",
    "    flattened_dataset_inputs.append(p[1])\n",
    "\n",
    "train_linear_classification_model(model, input_dim, flattened_dataset_inputs, Y)\n",
    "\n",
    "predicted_outputs = [predict_linear_model_classif(model,input_dim,  p)  for p in test_dataset]\n",
    "predicted_outputs_colors = ['blue' if label == 1 else 'red' for label in predicted_outputs]\n",
    "plt.scatter([p[0] for p in test_dataset], [p[1] for p in test_dataset], c=predicted_outputs_colors)\n",
    "plt.scatter([p[0] for p in X], [p[1] for p in X], c=colors, s=200)\n",
    "plt.show()\n",
    "\n",
    "test_after = predict_linear_model_classif(p_model, input_dim , [1.25, 1.25])\n",
    "\n",
    "print(\"Prediction:\", test_after)\n",
    "\n",
    "flattened_dataset_inputs = []\n",
    "for p in X:\n",
    "    flattened_dataset_inputs.append(p[0])\n",
    "    flattened_dataset_inputs.append(p[1])\n",
    "\n",
    "destroy_linear_model(model)"
   ]
  },
  {
   "cell_type": "markdown",
   "metadata": {},
   "source": [
    "### MLP (simple)"
   ]
  },
  {
   "cell_type": "code",
   "execution_count": null,
   "metadata": {
    "pycharm": {
     "is_executing": true
    }
   },
   "outputs": [],
   "source": [
    "input_dim = [len(X[0]),2,2,3]\n",
    "\n",
    "p_model, len_output_layer = create_mlp_model(input_dim)\n",
    "test_before = predict_mlp_model_classification(p_model, [2.5, 2.5], len_output_layer)\n",
    "\n",
    "print(\"Before training:\", test_before)\n",
    "\n",
    "train_classification_stochastic_gradient_backpropagation_mlp_model(p_model, X, Y.flatten(), epochs=10000)\n",
    "\n",
    "test_after = predict_mlp_model_classification(p_model, [2.5, 2.5], len_output_layer)\n",
    "\n",
    "print(\"After training:\", test_after)"
   ]
  },
  {
   "cell_type": "markdown",
   "metadata": {},
   "source": [
    "### MLP (advanced)"
   ]
  },
  {
   "cell_type": "code",
   "execution_count": null,
   "metadata": {
    "pycharm": {
     "is_executing": true
    }
   },
   "outputs": [],
   "source": [
    "input_dim = [len(X[0]),26,26,3]\n",
    "\n",
    "\n",
    "model, len_output_layer = create_mlp_model(input_dim)\n",
    "test_dataset = [[x1, x2] for x1 in np.arange(-2, 2,0.1) for x2 in np.arange(-2, 2, 0.1)]\n",
    "colors = [\"blue\" if np.argmax(output) == 0 else (\"red\" if np.argmax(output) == 1 else \"green\") for output in Y]\n",
    "\n",
    "predicted_outputs = [predict_mlp_model_classification(model, p, len_output_layer)  for p in test_dataset]\n",
    "predicted_outputs_colors = [\"blue\" if np.argmax(output) == 0 else (\"red\" if np.argmax(output) == 1 else \"green\") for output in predicted_outputs]\n",
    "plt.scatter([p[0] for p in test_dataset], [p[1] for p in test_dataset], c=predicted_outputs_colors)\n",
    "plt.scatter([p[0] for p in X], [p[1] for p in X], c=colors, s=100)\n",
    "plt.show()\n",
    "\n",
    "\n",
    "train_classification_stochastic_gradient_backpropagation_mlp_model(model, X, Y.flatten(), alpha=0.03, epochs=1000000)\n",
    "\n",
    "predicted_outputs = [predict_mlp_model_classification(model, p, len_output_layer)  for p in test_dataset]\n",
    "predicted_outputs_colors = [\"blue\" if np.argmax(output) == 0 else (\"red\" if np.argmax(output) == 1 else \"green\") for output in predicted_outputs]\n",
    "plt.scatter([p[0] for p in test_dataset], [p[1] for p in test_dataset], c=predicted_outputs_colors)\n",
    "#plt.scatter([p[0] for p in X], [p[1] for p in X], c=colors, s=100)\n",
    "plt.show()\n",
    "\n",
    "\n",
    "destroy_mlp_model(model)"
   ]
  },
  {
   "cell_type": "markdown",
   "metadata": {
    "id": "zyrivJMK_WOQ"
   },
   "source": [
    "## Régression"
   ]
  },
  {
   "cell_type": "markdown",
   "metadata": {
    "id": "p4EB787A_WOR"
   },
   "source": [
    "### Linear Simple 2D :\n",
    "        Linear Model : OK\n",
    "        MLP (1, 1)   : OK"
   ]
  },
  {
   "cell_type": "code",
   "execution_count": null,
   "metadata": {
    "id": "dan93I7A_WOR",
    "pycharm": {
     "is_executing": true
    }
   },
   "outputs": [],
   "source": [
    "X = np.array([\n",
    "      [1],\n",
    "      [2]\n",
    "])\n",
    "Y = np.array([\n",
    "      2,\n",
    "      3\n",
    "])"
   ]
  },
  {
   "cell_type": "code",
   "execution_count": null,
   "metadata": {
    "colab": {
     "base_uri": "https://localhost:8080/",
     "height": 287
    },
    "id": "6vHbCksm_sQU",
    "outputId": "1e476e34-d3ef-456a-c46e-62de28756946",
    "pycharm": {
     "is_executing": true
    }
   },
   "outputs": [],
   "source": [
    "plt.scatter(X,Y)\n",
    "plt.show()\n",
    "plt.clf()"
   ]
  },
  {
   "cell_type": "markdown",
   "metadata": {},
   "source": [
    "### Linear model (simple)"
   ]
  },
  {
   "cell_type": "code",
   "execution_count": null,
   "metadata": {
    "pycharm": {
     "is_executing": true
    }
   },
   "outputs": [],
   "source": [
    "input_dim = len(X[0])\n",
    "\n",
    "model = create_linear_model(input_dim)\n",
    "\n",
    "flattened_dataset_inputs = np.array(X).flatten()\n",
    "\n",
    "test_before = predict_linear_model_regression(model, input_dim, [3])\n",
    "\n",
    "train_linear_regression_model(model, input_dim, flattened_dataset_inputs, Y)\n",
    "\n",
    "test_after = predict_linear_model_regression(model, input_dim, [3])\n",
    "\n",
    "print(\"before:\", test_before)\n",
    "print(\"after:\", test_after)\n",
    "\n",
    "destroy_linear_model(model)"
   ]
  },
  {
   "cell_type": "markdown",
   "metadata": {},
   "source": [
    "### Linear model (advanced)"
   ]
  },
  {
   "cell_type": "code",
   "execution_count": null,
   "metadata": {
    "pycharm": {
     "is_executing": true
    }
   },
   "outputs": [],
   "source": [
    "input_dim = len(X[0])\n",
    "\n",
    "model = create_linear_model(input_dim)\n",
    "flattened_dataset_inputs = []\n",
    "for p in X:\n",
    "    flattened_dataset_inputs.append(p[0])\n",
    "\n",
    "test_dataset_inputs = [i for i in range(0, 6)]\n",
    "predicted_outputs = [predict_linear_model_regression(model, input_dim, [p])  for p in test_dataset_inputs]\n",
    "\n",
    "plt.plot(test_dataset_inputs, predicted_outputs)\n",
    "plt.scatter([p[0] for p in X], Y, s=200)\n",
    "plt.axis([0, 5, 0, 5])\n",
    "plt.show()\n",
    "\n",
    "train_linear_regression_model(model, input_dim, flattened_dataset_inputs, Y)\n",
    "\n",
    "test_dataset_inputs = [i for i in range(0, 6)]\n",
    "predicted_outputs = [predict_linear_model_regression(model, input_dim, [p])  for p in test_dataset_inputs]\n",
    "\n",
    "plt.plot(test_dataset_inputs, predicted_outputs)\n",
    "plt.scatter([p[0] for p in X], Y, s=200)\n",
    "plt.axis([0, 5, 0, 5])\n",
    "plt.show()\n",
    "\n",
    "destroy_linear_model(model)"
   ]
  },
  {
   "cell_type": "markdown",
   "metadata": {},
   "source": [
    "### MLP (simple)"
   ]
  },
  {
   "cell_type": "code",
   "execution_count": null,
   "metadata": {
    "pycharm": {
     "is_executing": true
    }
   },
   "outputs": [],
   "source": [
    "model, _ = create_mlp_model([1, 1])    \n",
    "\n",
    "test_before = predict_mlp_model_regression(model, [3])[0]\n",
    "\n",
    "train_regression_stochastic_gradient_backpropagation_mlp_model(model, \n",
    "                                                               X, \n",
    "                                                               Y)\n",
    "\n",
    "test_after = predict_mlp_model_regression(model, [3])[0]\n",
    "\n",
    "print(\"before:\", test_before)\n",
    "print(\"after:\", test_after)\n",
    "\n",
    "destroy_mlp_model(model)"
   ]
  },
  {
   "cell_type": "markdown",
   "metadata": {},
   "source": [
    "### MLP (advanced)"
   ]
  },
  {
   "cell_type": "code",
   "execution_count": null,
   "metadata": {
    "pycharm": {
     "is_executing": true
    }
   },
   "outputs": [],
   "source": [
    "model, _ = create_mlp_model([1, 1])    \n",
    "\n",
    "test_dataset_inputs = [i for i in range(-10, 11)]\n",
    "predicted_outputs = [predict_mlp_model_regression(model, [p])[0]  for p in test_dataset_inputs]\n",
    "\n",
    "plt.plot(test_dataset_inputs, predicted_outputs)\n",
    "plt.scatter([p[0] for p in X], Y, s=200)\n",
    "plt.axis([-10, 10, -10, 10])\n",
    "plt.show()\n",
    "\n",
    "train_regression_stochastic_gradient_backpropagation_mlp_model(model, \n",
    "                                                               X, \n",
    "                                                               Y)\n",
    "\n",
    "test_dataset_inputs = [i for i in range(-10, 11)]\n",
    "predicted_outputs = [predict_mlp_model_regression(model, [p])[0]  for p in test_dataset_inputs]\n",
    "\n",
    "plt.plot(test_dataset_inputs, predicted_outputs)\n",
    "plt.scatter([p[0] for p in X], Y, s=200)\n",
    "plt.axis([-10, 10, -10, 10])\n",
    "plt.show()"
   ]
  },
  {
   "cell_type": "markdown",
   "metadata": {
    "id": "CkFb79fq_6ci"
   },
   "source": [
    "### Non Linear Simple 2D :\n",
    "        Linear Model    : OK\n",
    "        MLP (1, ?, 1)   : OK"
   ]
  },
  {
   "cell_type": "code",
   "execution_count": null,
   "metadata": {
    "id": "sZqi1Yy3_6cj",
    "pycharm": {
     "is_executing": true
    }
   },
   "outputs": [],
   "source": [
    "X = np.array([\n",
    "      [1],\n",
    "      [2],\n",
    "      [3]\n",
    "])\n",
    "Y = np.array([\n",
    "      2,\n",
    "      3,\n",
    "      2.5\n",
    "])"
   ]
  },
  {
   "cell_type": "code",
   "execution_count": null,
   "metadata": {
    "colab": {
     "base_uri": "https://localhost:8080/",
     "height": 287
    },
    "id": "NSqXDh6c_6ck",
    "outputId": "5e07562b-4b2f-4dc9-b4bd-263ac1b778fd",
    "pycharm": {
     "is_executing": true
    }
   },
   "outputs": [],
   "source": [
    "plt.scatter(X,Y)\n",
    "plt.show()\n",
    "plt.clf()"
   ]
  },
  {
   "cell_type": "markdown",
   "metadata": {},
   "source": [
    "### Linear model (simple)"
   ]
  },
  {
   "cell_type": "code",
   "execution_count": null,
   "metadata": {
    "pycharm": {
     "is_executing": true
    }
   },
   "outputs": [],
   "source": [
    "input_dim = len(X[0])\n",
    "\n",
    "model = create_linear_model(input_dim)\n",
    "\n",
    "flattened_dataset_inputs = np.array(X).flatten()\n",
    "\n",
    "test_before = predict_linear_model_regression(model, input_dim, [3])\n",
    "\n",
    "train_linear_regression_model(model, input_dim, flattened_dataset_inputs, Y)\n",
    "\n",
    "test_after = predict_linear_model_regression(model, input_dim, [3])\n",
    "\n",
    "print(\"before:\", test_before)\n",
    "print(\"after:\", test_after)\n",
    "\n",
    "destroy_linear_model(model)"
   ]
  },
  {
   "cell_type": "markdown",
   "metadata": {},
   "source": [
    "### Linear model (advanced)"
   ]
  },
  {
   "cell_type": "code",
   "execution_count": null,
   "metadata": {
    "pycharm": {
     "is_executing": true
    }
   },
   "outputs": [],
   "source": [
    "input_dim = len(X[0])\n",
    "\n",
    "model = create_linear_model(input_dim)\n",
    "flattened_dataset_inputs = []\n",
    "for p in X:\n",
    "    flattened_dataset_inputs.append(p[0])\n",
    "\n",
    "test_dataset_inputs = [i for i in range(0, 6)]\n",
    "predicted_outputs = [predict_linear_model_regression(model, input_dim, [p])  for p in test_dataset_inputs]\n",
    "\n",
    "plt.plot(test_dataset_inputs, predicted_outputs)\n",
    "plt.scatter([p[0] for p in X], Y, s=200)\n",
    "plt.axis([0, 4, 0, 4])\n",
    "plt.show()\n",
    "\n",
    "train_linear_regression_model(model, input_dim, flattened_dataset_inputs, Y)\n",
    "\n",
    "test_dataset_inputs = [i for i in range(0, 6)]\n",
    "predicted_outputs = [predict_linear_model_regression(model, input_dim, [p])  for p in test_dataset_inputs]\n",
    "\n",
    "plt.plot(test_dataset_inputs, predicted_outputs)\n",
    "plt.scatter([p[0] for p in X], Y, s=200)\n",
    "plt.axis([0, 4, 0, 4])\n",
    "plt.show()\n",
    "\n",
    "destroy_linear_model(model)"
   ]
  },
  {
   "cell_type": "markdown",
   "metadata": {},
   "source": [
    "### MLP (simple)"
   ]
  },
  {
   "cell_type": "code",
   "execution_count": null,
   "metadata": {
    "pycharm": {
     "is_executing": true
    }
   },
   "outputs": [],
   "source": [
    "model, _ = create_mlp_model([1, 1, 1])    \n",
    "\n",
    "test_before = predict_mlp_model_regression(model, [3])[0]\n",
    "\n",
    "train_regression_stochastic_gradient_backpropagation_mlp_model(model, \n",
    "                                                               X, \n",
    "                                                               Y)\n",
    "\n",
    "test_after = predict_mlp_model_regression(model, [3])[0]\n",
    "\n",
    "print(\"before:\", test_before)\n",
    "print(\"after:\", test_after)\n",
    "\n",
    "destroy_mlp_model(model)"
   ]
  },
  {
   "cell_type": "markdown",
   "metadata": {},
   "source": [
    "### MLP (advanced)"
   ]
  },
  {
   "cell_type": "code",
   "execution_count": null,
   "metadata": {
    "pycharm": {
     "is_executing": true
    }
   },
   "outputs": [],
   "source": [
    "model, _ = create_mlp_model([1, 2, 1])    \n",
    "\n",
    "test_dataset_inputs = [i for i in range(-10, 11)]\n",
    "predicted_outputs = [predict_mlp_model_regression(model, [p])[0]  for p in test_dataset_inputs]\n",
    "\n",
    "plt.plot(test_dataset_inputs, predicted_outputs)\n",
    "plt.scatter([p[0] for p in X], Y, s=200)\n",
    "plt.axis([0,4,0,4])\n",
    "plt.show()\n",
    "\n",
    "train_regression_stochastic_gradient_backpropagation_mlp_model(model, \n",
    "                                                               X, \n",
    "                                                               Y,\n",
    "                                                               epochs=1000000)\n",
    "\n",
    "test_dataset_inputs = [i for i in range(-10, 11)]\n",
    "predicted_outputs = [predict_mlp_model_regression(model, [p])[0]  for p in test_dataset_inputs]\n",
    "\n",
    "plt.plot(test_dataset_inputs, predicted_outputs)\n",
    "plt.scatter([p[0] for p in X], Y, s=200)\n",
    "plt.axis([0,4,0,4])\n",
    "plt.show()"
   ]
  },
  {
   "cell_type": "markdown",
   "metadata": {
    "id": "WT1s5lZxAJuL"
   },
   "source": [
    "### Linear Simple 3D :\n",
    "        Linear Model    : OK\n",
    "        MLP (2, 1)      : OK"
   ]
  },
  {
   "cell_type": "code",
   "execution_count": null,
   "metadata": {
    "id": "KL_IanGMAJuM",
    "pycharm": {
     "is_executing": true
    }
   },
   "outputs": [],
   "source": [
    "X = np.array([\n",
    "      [1, 1],\n",
    "      [2, 2],\n",
    "      [6, 1]\n",
    "])\n",
    "Y = np.array([\n",
    "      2,\n",
    "      3,\n",
    "      5\n",
    "])"
   ]
  },
  {
   "cell_type": "code",
   "execution_count": null,
   "metadata": {
    "colab": {
     "base_uri": "https://localhost:8080/",
     "height": 337
    },
    "id": "91dQpMIzAJuO",
    "outputId": "c1681d4c-3b99-429c-fa3f-6b8ef879e0de",
    "pycharm": {
     "is_executing": true
    }
   },
   "outputs": [],
   "source": [
    "from mpl_toolkits.mplot3d import Axes3D\n",
    "#!pip install plotly\n",
    "import plotly.express as px\n",
    "import pandas as pd\n",
    "import plotly.io as pio\n",
    "pio.renderers.default='notebook'\n",
    "\n",
    "fig = plt.figure()\n",
    "ax = Axes3D(fig)\n",
    "ax.scatter(X[:,0],X[:,1],Y)\n",
    "plt.show()\n",
    "plt.clf()"
   ]
  },
  {
   "cell_type": "markdown",
   "metadata": {},
   "source": [
    "### Linear model (simple)"
   ]
  },
  {
   "cell_type": "code",
   "execution_count": null,
   "metadata": {
    "pycharm": {
     "is_executing": true
    }
   },
   "outputs": [],
   "source": [
    "input_dim = len(X[0])\n",
    "\n",
    "model = create_linear_model(input_dim)\n",
    "\n",
    "flattened_dataset_inputs = np.array(X).flatten()\n",
    "\n",
    "test_before = predict_linear_model_regression(model, input_dim, [1, 1])\n",
    "\n",
    "train_linear_regression_model(model, input_dim, flattened_dataset_inputs, Y)\n",
    "\n",
    "test_after = predict_linear_model_regression(model, input_dim, [1, 1])\n",
    "\n",
    "print(\"before:\", test_before)\n",
    "print(\"after:\", test_after)\n",
    "\n",
    "destroy_linear_model(model)"
   ]
  },
  {
   "cell_type": "markdown",
   "metadata": {},
   "source": [
    "### Linear model (advanced)"
   ]
  },
  {
   "cell_type": "code",
   "execution_count": null,
   "metadata": {
    "pycharm": {
     "is_executing": true
    }
   },
   "outputs": [],
   "source": [
    "input_dim = len(X[0])\n",
    "\n",
    "model = create_linear_model(input_dim)\n",
    "    \n",
    "flattened_dataset_inputs = np.array(X).flatten()\n",
    "\n",
    "test_dataset_inputs = np.array([[i, j] for i in np.arange(0, 6, 0.1) for j in np.arange(0, 6, 0.1)])\n",
    "predicted_outputs = np.array([predict_linear_model_regression(model, input_dim, x)  for x in test_dataset_inputs])\n",
    "\n",
    "df = pd.DataFrame({\"cat\": [\"A\" for _ in range(len(test_dataset_inputs))], \"x0\": test_dataset_inputs[:, 0], \"x1\": test_dataset_inputs[:, 1], \"z_prev\":predicted_outputs})\n",
    "\n",
    "old = {\"cat\": [\"B\", \"B\", \"B\"], \"x0\": X[:,0], \"x1\": X[:,1], \"z_prev\":Y}\n",
    "\n",
    "df2 = pd.DataFrame(old)\n",
    "d = pd.concat([df, df2], ignore_index = True)\n",
    "d.reset_index()\n",
    "\n",
    "fig = px.scatter_3d(d, x=\"x0\", y=\"x1\", z=\"z_prev\", color=\"cat\", size=[10 for _ in range(len(d))])\n",
    "fig.show(\"notebook\")\n",
    "\n",
    "train_linear_regression_model(model, input_dim, flattened_dataset_inputs, Y)\n",
    "\n",
    "predicted_outputs = np.array([predict_linear_model_regression(model, input_dim, x)  for x in test_dataset_inputs])\n",
    "\n",
    "df_aft = pd.DataFrame({\"cat\": [\"A\" for _ in range(len(test_dataset_inputs))], \"x0\": test_dataset_inputs[:, 0], \"x1\": test_dataset_inputs[:, 1], \"z_aft\":predicted_outputs})\n",
    "\n",
    "old2 = {\"cat\": [\"B\", \"B\", \"B\"], \"x0\": X[:,0], \"x1\": X[:,1], \"z_aft\":Y}\n",
    "\n",
    "df2 = pd.DataFrame(old2)\n",
    "d_aft = pd.concat([df_aft, df2], ignore_index = True)\n",
    "d_aft.reset_index()\n",
    "\n",
    "\n",
    "fig = px.scatter_3d(d_aft, x=\"x0\", y=\"x1\", z=\"z_aft\", color=\"cat\", size=[10 for _ in range(len(d_aft))])\n",
    "fig.show(\"notebook\")\n",
    "\n",
    "destroy_linear_model(model)"
   ]
  },
  {
   "cell_type": "markdown",
   "metadata": {},
   "source": [
    "### MLP (simple)"
   ]
  },
  {
   "cell_type": "code",
   "execution_count": null,
   "metadata": {
    "pycharm": {
     "is_executing": true
    }
   },
   "outputs": [],
   "source": [
    "input_dim = [len(X[0]), 1]\n",
    "\n",
    "model, _ = create_mlp_model(input_dim)\n",
    "\n",
    "test_before = predict_mlp_model_regression(model, [1, 1])[0]\n",
    "\n",
    "train_regression_stochastic_gradient_backpropagation_mlp_model(model, \n",
    "                                                               X, \n",
    "                                                               Y,\n",
    "                                                              epochs=100000)\n",
    "\n",
    "\n",
    "test_after = predict_mlp_model_regression(model, [1, 1])[0]\n",
    "\n",
    "print(\"before:\", test_before)\n",
    "print(\"after:\", test_after)\n",
    "\n",
    "destroy_mlp_model(model)"
   ]
  },
  {
   "cell_type": "markdown",
   "metadata": {},
   "source": [
    "### MLP (advanced)"
   ]
  },
  {
   "cell_type": "code",
   "execution_count": null,
   "metadata": {
    "pycharm": {
     "is_executing": true
    }
   },
   "outputs": [],
   "source": [
    "input_dim = [len(X[0]), 1] \n",
    "\n",
    "model, _ = create_mlp_model(input_dim)\n",
    "    \n",
    "test_dataset_inputs = np.array([[i, j] for i in np.arange(0, 6, 0.1) for j in np.arange(0, 6, 0.1)])\n",
    "predicted_outputs = np.array([predict_mlp_model_regression(model, x)[0] for x in test_dataset_inputs])\n",
    "\n",
    "df = pd.DataFrame({\"cat\": [\"A\" for _ in range(len(test_dataset_inputs))], \"x0\": test_dataset_inputs[:, 0], \"x1\": test_dataset_inputs[:, 1], \"z_prev\":predicted_outputs})\n",
    "\n",
    "old = {\"cat\": [\"B\", \"B\", \"B\"], \"x0\": X[:,0], \"x1\": X[:,1], \"z_prev\":Y}\n",
    "\n",
    "df2 = pd.DataFrame(old)\n",
    "d = pd.concat([df, df2], ignore_index = True)\n",
    "d.reset_index()\n",
    "\n",
    "fig = px.scatter_3d(d, x=\"x0\", y=\"x1\", z=\"z_prev\", color=\"cat\", size=[10 for _ in range(len(d))])\n",
    "fig.show(\"notebook\")\n",
    "\n",
    "train_regression_stochastic_gradient_backpropagation_mlp_model(model, \n",
    "                                                               X, \n",
    "                                                               Y,\n",
    "                                                              epochs=100000)\n",
    "\n",
    "\n",
    "predicted_outputs = np.array([predict_mlp_model_regression(model, x)[0]  for x in test_dataset_inputs])\n",
    "\n",
    "df_aft = pd.DataFrame({\"cat\": [\"A\" for _ in range(len(test_dataset_inputs))], \"x0\": test_dataset_inputs[:, 0], \"x1\": test_dataset_inputs[:, 1], \"z_aft\":predicted_outputs})\n",
    "\n",
    "old2 = {\"cat\": [\"B\", \"B\", \"B\"], \"x0\": X[:,0], \"x1\": X[:,1], \"z_aft\":Y}\n",
    "\n",
    "df2 = pd.DataFrame(old2)\n",
    "d_aft = pd.concat([df_aft, df2], ignore_index = True)\n",
    "d_aft.reset_index()\n",
    "\n",
    "\n",
    "fig = px.scatter_3d(d_aft, x=\"x0\", y=\"x1\", z=\"z_aft\", color=\"cat\", size=[10 for _ in range(len(d_aft))])\n",
    "fig.show(\"notebook\")\n",
    "\n",
    "destroy_mlp_model(model)"
   ]
  },
  {
   "cell_type": "markdown",
   "metadata": {
    "id": "kO361TllBqbm"
   },
   "source": [
    "### Linear Tricky 3D :\n",
    "        Linear Model    : OK\n",
    "        MLP (2, 1)      : OK"
   ]
  },
  {
   "cell_type": "code",
   "execution_count": null,
   "metadata": {
    "id": "nR_i7qLxBqbm",
    "pycharm": {
     "is_executing": true
    }
   },
   "outputs": [],
   "source": [
    "X = np.array([\n",
    "      [1, 1],\n",
    "      [2, 2],\n",
    "      [3, 3]\n",
    "])\n",
    "Y = np.array([\n",
    "      1,\n",
    "      2,\n",
    "      3\n",
    "])"
   ]
  },
  {
   "cell_type": "code",
   "execution_count": null,
   "metadata": {
    "colab": {
     "base_uri": "https://localhost:8080/",
     "height": 337
    },
    "id": "dHriVYrKBqbo",
    "outputId": "681a33c5-8ad5-427a-beea-eaf2a4e268ac",
    "pycharm": {
     "is_executing": true
    }
   },
   "outputs": [],
   "source": [
    "from mpl_toolkits.mplot3d import Axes3D\n",
    "fig = plt.figure()\n",
    "ax = Axes3D(fig)\n",
    "ax.scatter(X[:,0],X[:,1],Y)\n",
    "plt.show()\n",
    "plt.clf()"
   ]
  },
  {
   "cell_type": "markdown",
   "metadata": {},
   "source": [
    "### Linear model (simple)"
   ]
  },
  {
   "cell_type": "code",
   "execution_count": null,
   "metadata": {
    "pycharm": {
     "is_executing": true
    }
   },
   "outputs": [],
   "source": [
    "input_dim = len(X[0])\n",
    "\n",
    "model = create_linear_model(input_dim)\n",
    "\n",
    "flattened_dataset_inputs = np.array(X).flatten()\n",
    "\n",
    "test_before = predict_linear_model_regression(model, input_dim, [1, 1])\n",
    "\n",
    "train_linear_regression_model(model, input_dim, flattened_dataset_inputs, Y)\n",
    "\n",
    "test_after = predict_linear_model_regression(model, input_dim, [1, 1])\n",
    "\n",
    "print(\"before:\", test_before)\n",
    "print(\"after:\", test_after)\n",
    "\n",
    "destroy_linear_model(model)"
   ]
  },
  {
   "cell_type": "markdown",
   "metadata": {},
   "source": [
    "### Linear model (advanced)"
   ]
  },
  {
   "cell_type": "code",
   "execution_count": null,
   "metadata": {
    "pycharm": {
     "is_executing": true
    }
   },
   "outputs": [],
   "source": [
    "input_dim = len(X[0]) # 2\n",
    "\n",
    "model = create_linear_model(input_dim)\n",
    "    \n",
    "flattened_dataset_inputs = np.array(X).flatten()\n",
    "\n",
    "test_dataset_inputs = np.array([[i, j] for i in np.arange(0, 6, 0.1) for j in np.arange(0, 6, 0.1)])\n",
    "predicted_outputs = np.array([predict_linear_model_regression(model, input_dim, x)  for x in test_dataset_inputs])\n",
    "\n",
    "df = pd.DataFrame({\"cat\": [\"A\" for _ in range(len(test_dataset_inputs))], \"x0\": test_dataset_inputs[:, 0], \"x1\": test_dataset_inputs[:, 1], \"z_prev\":predicted_outputs})\n",
    "\n",
    "old = {\"cat\": [\"B\", \"B\", \"B\"], \"x0\": X[:,0], \"x1\": X[:,1], \"z_prev\":Y}\n",
    "\n",
    "df2 = pd.DataFrame(old)\n",
    "d = pd.concat([df, df2], ignore_index = True)\n",
    "d.reset_index()\n",
    "\n",
    "fig = px.scatter_3d(d, x=\"x0\", y=\"x1\", z=\"z_prev\", color=\"cat\", size=[10 for _ in range(len(d))])\n",
    "fig.show(\"notebook\")\n",
    "#print(df.head())\n",
    "\n",
    "train_linear_regression_model(model, input_dim, flattened_dataset_inputs, Y)\n",
    "\n",
    "predicted_outputs = np.array([predict_linear_model_regression(model, input_dim, x)  for x in test_dataset_inputs])\n",
    "\n",
    "df_aft = pd.DataFrame({\"cat\": [\"A\" for _ in range(len(test_dataset_inputs))], \"x0\": test_dataset_inputs[:, 0], \"x1\": test_dataset_inputs[:, 1], \"z_aft\":predicted_outputs})\n",
    "\n",
    "old2 = {\"cat\": [\"B\", \"B\", \"B\"], \"x0\": X[:,0], \"x1\": X[:,1], \"z_aft\":Y}\n",
    "\n",
    "df2 = pd.DataFrame(old2)\n",
    "d_aft = pd.concat([df_aft, df2], ignore_index = True)\n",
    "d_aft.reset_index()\n",
    "\n",
    "\n",
    "fig = px.scatter_3d(d_aft, x=\"x0\", y=\"x1\", z=\"z_aft\", color=\"cat\", size=[10 for _ in range(len(d_aft))])\n",
    "fig.show(\"notebook\")\n",
    "\n",
    "destroy_linear_model(model)"
   ]
  },
  {
   "cell_type": "markdown",
   "metadata": {},
   "source": [
    "### MLP (simple)"
   ]
  },
  {
   "cell_type": "code",
   "execution_count": null,
   "metadata": {
    "pycharm": {
     "is_executing": true
    }
   },
   "outputs": [],
   "source": [
    "input_dim = [len(X[0]), 1]\n",
    "\n",
    "model, _ = create_mlp_model(input_dim)\n",
    "\n",
    "test_before = predict_mlp_model_regression(model, [1, 1])[0]\n",
    "\n",
    "train_regression_stochastic_gradient_backpropagation_mlp_model(model, \n",
    "                                                               X, \n",
    "                                                               Y,\n",
    "                                                               epochs=100000)\n",
    "\n",
    "\n",
    "test_after = predict_mlp_model_regression(model, [1, 1])[0]\n",
    "\n",
    "print(\"before:\", test_before)\n",
    "print(\"after:\", test_after)\n",
    "\n",
    "destroy_mlp_model(model)"
   ]
  },
  {
   "cell_type": "markdown",
   "metadata": {},
   "source": [
    "### MLP (advanced)"
   ]
  },
  {
   "cell_type": "code",
   "execution_count": null,
   "metadata": {
    "pycharm": {
     "is_executing": true
    }
   },
   "outputs": [],
   "source": [
    "input_dim = [len(X[0]), 1]\n",
    "\n",
    "model, _ = create_mlp_model(input_dim)\n",
    "    \n",
    "test_dataset_inputs = np.array([[i, j] for i in np.arange(0, 6, 0.1) for j in np.arange(0, 6, 0.1)])\n",
    "predicted_outputs = np.array([predict_mlp_model_regression(model, x)[0] for x in test_dataset_inputs])\n",
    "\n",
    "df = pd.DataFrame({\"cat\": [\"A\" for _ in range(len(test_dataset_inputs))], \"x0\": test_dataset_inputs[:, 0], \"x1\": test_dataset_inputs[:, 1], \"z_prev\":predicted_outputs})\n",
    "\n",
    "old = {\"cat\": [\"B\", \"B\", \"B\"], \"x0\": X[:,0], \"x1\": X[:,1], \"z_prev\":Y}\n",
    "\n",
    "df2 = pd.DataFrame(old)\n",
    "d = pd.concat([df, df2], ignore_index = True)\n",
    "d.reset_index()\n",
    "\n",
    "fig = px.scatter_3d(d, x=\"x0\", y=\"x1\", z=\"z_prev\", color=\"cat\", size=[10 for _ in range(len(d))])\n",
    "fig.show(\"notebook\")\n",
    "\n",
    "train_regression_stochastic_gradient_backpropagation_mlp_model(model, \n",
    "                                                               X, \n",
    "                                                               Y,\n",
    "                                                              epochs=100000)\n",
    "\n",
    "\n",
    "predicted_outputs = np.array([predict_mlp_model_regression(model, x)[0]  for x in test_dataset_inputs])\n",
    "\n",
    "df_aft = pd.DataFrame({\"cat\": [\"A\" for _ in range(len(test_dataset_inputs))], \"x0\": test_dataset_inputs[:, 0], \"x1\": test_dataset_inputs[:, 1], \"z_aft\":predicted_outputs})\n",
    "\n",
    "old2 = {\"cat\": [\"B\", \"B\", \"B\"], \"x0\": X[:,0], \"x1\": X[:,1], \"z_aft\":Y}\n",
    "\n",
    "df2 = pd.DataFrame(old2)\n",
    "d_aft = pd.concat([df_aft, df2], ignore_index = True)\n",
    "d_aft.reset_index()\n",
    "\n",
    "\n",
    "fig = px.scatter_3d(d_aft, x=\"x0\", y=\"x1\", z=\"z_aft\", color=\"cat\", size=[10 for _ in range(len(d_aft))])\n",
    "fig.show(\"notebook\")\n",
    "\n",
    "destroy_mlp_model(model)"
   ]
  },
  {
   "cell_type": "markdown",
   "metadata": {
    "id": "H_h0_vtCBEzk"
   },
   "source": [
    "### Non Linear Simple 3D :\n",
    "        Linear Model       : KO\n",
    "        MLP (2, 2, 1)      : OK"
   ]
  },
  {
   "cell_type": "code",
   "execution_count": null,
   "metadata": {
    "id": "ij70I1H9BEzk",
    "pycharm": {
     "is_executing": true
    }
   },
   "outputs": [],
   "source": [
    "X = np.array([\n",
    "      [1, 0],\n",
    "      [0, 1],\n",
    "      [1, 1],\n",
    "      [0, 0],\n",
    "])\n",
    "Y = np.array([\n",
    "      2,\n",
    "      1,\n",
    "      -2,\n",
    "      -1\n",
    "])"
   ]
  },
  {
   "cell_type": "code",
   "execution_count": null,
   "metadata": {
    "colab": {
     "base_uri": "https://localhost:8080/",
     "height": 337
    },
    "id": "N3VDOby8BEzn",
    "outputId": "ef903fb3-08ed-4afd-f1e0-bcaed828b118",
    "pycharm": {
     "is_executing": true
    }
   },
   "outputs": [],
   "source": [
    "from mpl_toolkits.mplot3d import Axes3D\n",
    "fig = plt.figure()\n",
    "ax = Axes3D(fig)\n",
    "ax.scatter(X[:,0],X[:,1],Y)\n",
    "plt.show()\n",
    "plt.clf()"
   ]
  },
  {
   "cell_type": "markdown",
   "metadata": {},
   "source": [
    "### Linear model (simple)"
   ]
  },
  {
   "cell_type": "code",
   "execution_count": null,
   "metadata": {
    "pycharm": {
     "is_executing": true
    }
   },
   "outputs": [],
   "source": [
    "input_dim = len(X[0])\n",
    "\n",
    "model = create_linear_model(input_dim)\n",
    "\n",
    "flattened_dataset_inputs = np.array(X).flatten()\n",
    "\n",
    "test_before = predict_linear_model_regression(model, input_dim, [1, 0])\n",
    "\n",
    "train_linear_regression_model(model, input_dim, flattened_dataset_inputs, Y)\n",
    "\n",
    "test_after = predict_linear_model_regression(model, input_dim, [1, 0])\n",
    "\n",
    "print(\"before:\", test_before)\n",
    "print(\"after:\", test_after)\n",
    "\n",
    "destroy_linear_model(model)"
   ]
  },
  {
   "cell_type": "markdown",
   "metadata": {},
   "source": [
    "### Linear model (advanced)"
   ]
  },
  {
   "cell_type": "code",
   "execution_count": null,
   "metadata": {
    "pycharm": {
     "is_executing": true
    }
   },
   "outputs": [],
   "source": [
    "input_dim = len(X[0])\n",
    "\n",
    "model = create_linear_model(input_dim)\n",
    "    \n",
    "flattened_dataset_inputs = np.array(X).flatten()\n",
    "\n",
    "test_dataset_inputs = np.array([[i, j] for i in np.arange(0, 6, 0.1) for j in np.arange(0, 6, 0.1)])\n",
    "predicted_outputs = np.array([predict_linear_model_regression(model, input_dim, x)  for x in test_dataset_inputs])\n",
    "\n",
    "df = pd.DataFrame({\"cat\": [\"A\" for _ in range(len(test_dataset_inputs))], \"x0\": test_dataset_inputs[:, 0], \"x1\": test_dataset_inputs[:, 1], \"z_prev\":predicted_outputs})\n",
    "\n",
    "old = {\"cat\": [\"B\", \"B\", \"B\", \"B\"], \"x0\": X[:,0], \"x1\": X[:,1], \"z_prev\":Y}\n",
    "\n",
    "df2 = pd.DataFrame(old)\n",
    "d = pd.concat([df, df2], ignore_index = True)\n",
    "d.reset_index()\n",
    "\n",
    "fig = px.scatter_3d(d, x=\"x0\", y=\"x1\", z=\"z_prev\", color=\"cat\", size=[10 for _ in range(len(d))])\n",
    "fig.show(\"notebook\")\n",
    "\n",
    "train_linear_regression_model(model, input_dim, flattened_dataset_inputs, Y)\n",
    "\n",
    "predicted_outputs = np.array([predict_linear_model_regression(model, input_dim, x)  for x in test_dataset_inputs])\n",
    "\n",
    "df_aft = pd.DataFrame({\"cat\": [\"A\" for _ in range(len(test_dataset_inputs))], \"x0\": test_dataset_inputs[:, 0], \"x1\": test_dataset_inputs[:, 1], \"z_aft\":predicted_outputs})\n",
    "\n",
    "old2 = {\"cat\": [\"B\", \"B\", \"B\", \"B\"], \"x0\": X[:,0], \"x1\": X[:,1], \"z_aft\":Y}\n",
    "\n",
    "df2 = pd.DataFrame(old2)\n",
    "d_aft = pd.concat([df_aft, df2], ignore_index = True)\n",
    "d_aft.reset_index()\n",
    "\n",
    "\n",
    "fig = px.scatter_3d(d_aft, x=\"x0\", y=\"x1\", z=\"z_aft\", color=\"cat\", size=[10 for _ in range(len(d_aft))])\n",
    "fig.show(\"notebook\")\n",
    "\n",
    "destroy_linear_model(model)"
   ]
  },
  {
   "cell_type": "markdown",
   "metadata": {},
   "source": [
    "### MLP (simple)"
   ]
  },
  {
   "cell_type": "code",
   "execution_count": null,
   "metadata": {
    "pycharm": {
     "is_executing": true
    }
   },
   "outputs": [],
   "source": [
    "input_dim = [len(X[0]), len(X[0]), 1]\n",
    "\n",
    "model, _ = create_mlp_model(input_dim)\n",
    "\n",
    "test_before = predict_mlp_model_regression(model, [1, 0])[0]\n",
    "\n",
    "train_regression_stochastic_gradient_backpropagation_mlp_model(model, \n",
    "                                                               X, \n",
    "                                                               Y,\n",
    "                                                               epochs=100000)\n",
    "\n",
    "\n",
    "test_after = predict_mlp_model_regression(model, [1, 0])[0]\n",
    "\n",
    "print(\"before:\", test_before)\n",
    "print(\"after:\", test_after)\n",
    "\n",
    "destroy_mlp_model(model)"
   ]
  },
  {
   "cell_type": "markdown",
   "metadata": {},
   "source": [
    "### MLP (advanced)"
   ]
  },
  {
   "cell_type": "code",
   "execution_count": null,
   "metadata": {
    "pycharm": {
     "is_executing": true
    }
   },
   "outputs": [],
   "source": [
    "input_dim = [len(X[0]), len(X[0]), 1]\n",
    "\n",
    "model, _ = create_mlp_model(input_dim)\n",
    "    \n",
    "test_dataset_inputs = np.array([[i, j] for i in np.arange(0, 6, 0.1) for j in np.arange(0, 6, 0.1)])\n",
    "predicted_outputs = np.array([predict_mlp_model_regression(model, x)[0] for x in test_dataset_inputs])\n",
    "\n",
    "df = pd.DataFrame({\"cat\": [\"A\" for _ in range(len(test_dataset_inputs))], \"x0\": test_dataset_inputs[:, 0], \"x1\": test_dataset_inputs[:, 1], \"z_prev\":predicted_outputs})\n",
    "\n",
    "old = {\"cat\": [\"B\", \"B\", \"B\", \"B\"], \"x0\": X[:,0], \"x1\": X[:,1], \"z_prev\":Y}\n",
    "\n",
    "df2 = pd.DataFrame(old)\n",
    "d = pd.concat([df, df2], ignore_index = True)\n",
    "d.reset_index()\n",
    "\n",
    "fig = px.scatter_3d(d, x=\"x0\", y=\"x1\", z=\"z_prev\", color=\"cat\", size=[10 for _ in range(len(d))])\n",
    "fig.show(\"notebook\")\n",
    "\n",
    "train_regression_stochastic_gradient_backpropagation_mlp_model(model, \n",
    "                                                               X, \n",
    "                                                               Y,\n",
    "                                                               alpha=0.01,\n",
    "                                                              epochs=100000)\n",
    "\n",
    "\n",
    "predicted_outputs = np.array([predict_mlp_model_regression(model, x)[0]  for x in test_dataset_inputs])\n",
    "\n",
    "df_aft = pd.DataFrame({\"cat\": [\"A\" for _ in range(len(test_dataset_inputs))], \"x0\": test_dataset_inputs[:, 0], \"x1\": test_dataset_inputs[:, 1], \"z_aft\":predicted_outputs})\n",
    "\n",
    "old2 = {\"cat\": [\"B\", \"B\", \"B\", \"B\"], \"x0\": X[:,0], \"x1\": X[:,1], \"z_aft\":Y}\n",
    "\n",
    "df2 = pd.DataFrame(old2)\n",
    "d_aft = pd.concat([df_aft, df2], ignore_index = True)\n",
    "d_aft.reset_index()\n",
    "\n",
    "\n",
    "fig = px.scatter_3d(d_aft, x=\"x0\", y=\"x1\", z=\"z_aft\", color=\"cat\", size=[10 for _ in range(len(d_aft))])\n",
    "fig.show(\"notebook\")\n",
    "\n",
    "destroy_mlp_model(model)"
   ]
  }
 ],
 "metadata": {
  "colab": {
   "collapsed_sections": [],
   "name": "Notebook _ CAS DE TESTS.ipynb",
   "provenance": []
  },
  "kernelspec": {
   "display_name": "Python 3",
   "language": "python",
   "name": "python3"
  },
  "language_info": {
   "codemirror_mode": {
    "name": "ipython",
    "version": 3
   },
   "file_extension": ".py",
   "mimetype": "text/x-python",
   "name": "python",
   "nbconvert_exporter": "python",
   "pygments_lexer": "ipython3",
   "version": "3.8.8"
  }
 },
 "nbformat": 4,
 "nbformat_minor": 1
}